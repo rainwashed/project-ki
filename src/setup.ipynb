{
 "cells": [
  {
   "cell_type": "markdown",
   "metadata": {},
   "source": [
    "Install required dependencies\n",
    "\n",
    "For computer systems, make sure to install ``cuda`` and ``cuda-tools`` package (on arch atleast)\n",
    "\n",
    "read [this article](https://medium.com/nerd-for-tech/installing-tensorflow-with-gpu-acceleration-on-linux-f3f55dd15a9) for gpu setup"
   ]
  },
  {
   "cell_type": "code",
   "execution_count": 1,
   "metadata": {},
   "outputs": [
    {
     "name": "stdout",
     "output_type": "stream",
     "text": [
      "/usr/bin/zsh: /home/andrewli/miniconda3/envs/project-ki/lib/libncursesw.so.6: no version information available (required by /usr/bin/zsh)\n",
      "Requirement already satisfied: transformers in /home/andrewli/miniconda3/envs/project-ki/lib/python3.11/site-packages (from -r ../requirements.txt (line 1)) (4.32.1)\n",
      "Requirement already satisfied: ipykernel in /home/andrewli/miniconda3/envs/project-ki/lib/python3.11/site-packages (from -r ../requirements.txt (line 2)) (6.25.2)\n",
      "Requirement already satisfied: tensorflow==2.13.0 in /home/andrewli/miniconda3/envs/project-ki/lib/python3.11/site-packages (from -r ../requirements.txt (line 3)) (2.13.0)\n",
      "Requirement already satisfied: datasets in /home/andrewli/miniconda3/envs/project-ki/lib/python3.11/site-packages (from -r ../requirements.txt (line 4)) (2.14.4)\n",
      "Requirement already satisfied: soundfile in /home/andrewli/miniconda3/envs/project-ki/lib/python3.11/site-packages (from -r ../requirements.txt (line 5)) (0.12.1)\n",
      "Requirement already satisfied: librosa in /home/andrewli/miniconda3/envs/project-ki/lib/python3.11/site-packages (from -r ../requirements.txt (line 6)) (0.10.1)\n",
      "Requirement already satisfied: ffmpeg in /home/andrewli/miniconda3/envs/project-ki/lib/python3.11/site-packages (from -r ../requirements.txt (line 7)) (1.4)\n",
      "Requirement already satisfied: absl-py>=1.0.0 in /home/andrewli/miniconda3/envs/project-ki/lib/python3.11/site-packages (from tensorflow==2.13.0->-r ../requirements.txt (line 3)) (1.4.0)\n",
      "Requirement already satisfied: astunparse>=1.6.0 in /home/andrewli/miniconda3/envs/project-ki/lib/python3.11/site-packages (from tensorflow==2.13.0->-r ../requirements.txt (line 3)) (1.6.3)\n",
      "Requirement already satisfied: flatbuffers>=23.1.21 in /home/andrewli/miniconda3/envs/project-ki/lib/python3.11/site-packages (from tensorflow==2.13.0->-r ../requirements.txt (line 3)) (23.5.26)\n",
      "Requirement already satisfied: gast<=0.4.0,>=0.2.1 in /home/andrewli/miniconda3/envs/project-ki/lib/python3.11/site-packages (from tensorflow==2.13.0->-r ../requirements.txt (line 3)) (0.4.0)\n",
      "Requirement already satisfied: google-pasta>=0.1.1 in /home/andrewli/miniconda3/envs/project-ki/lib/python3.11/site-packages (from tensorflow==2.13.0->-r ../requirements.txt (line 3)) (0.2.0)\n",
      "Requirement already satisfied: grpcio<2.0,>=1.24.3 in /home/andrewli/miniconda3/envs/project-ki/lib/python3.11/site-packages (from tensorflow==2.13.0->-r ../requirements.txt (line 3)) (1.57.0)\n",
      "Requirement already satisfied: h5py>=2.9.0 in /home/andrewli/miniconda3/envs/project-ki/lib/python3.11/site-packages (from tensorflow==2.13.0->-r ../requirements.txt (line 3)) (3.9.0)\n",
      "Requirement already satisfied: keras<2.14,>=2.13.1 in /home/andrewli/miniconda3/envs/project-ki/lib/python3.11/site-packages (from tensorflow==2.13.0->-r ../requirements.txt (line 3)) (2.13.1)\n",
      "Requirement already satisfied: libclang>=13.0.0 in /home/andrewli/miniconda3/envs/project-ki/lib/python3.11/site-packages (from tensorflow==2.13.0->-r ../requirements.txt (line 3)) (16.0.6)\n",
      "Requirement already satisfied: numpy<=1.24.3,>=1.22 in /home/andrewli/miniconda3/envs/project-ki/lib/python3.11/site-packages (from tensorflow==2.13.0->-r ../requirements.txt (line 3)) (1.24.3)\n",
      "Requirement already satisfied: opt-einsum>=2.3.2 in /home/andrewli/miniconda3/envs/project-ki/lib/python3.11/site-packages (from tensorflow==2.13.0->-r ../requirements.txt (line 3)) (3.3.0)\n",
      "Requirement already satisfied: packaging in /home/andrewli/miniconda3/envs/project-ki/lib/python3.11/site-packages (from tensorflow==2.13.0->-r ../requirements.txt (line 3)) (23.1)\n",
      "Requirement already satisfied: protobuf!=4.21.0,!=4.21.1,!=4.21.2,!=4.21.3,!=4.21.4,!=4.21.5,<5.0.0dev,>=3.20.3 in /home/andrewli/miniconda3/envs/project-ki/lib/python3.11/site-packages (from tensorflow==2.13.0->-r ../requirements.txt (line 3)) (4.24.2)\n",
      "Requirement already satisfied: setuptools in /home/andrewli/miniconda3/envs/project-ki/lib/python3.11/site-packages (from tensorflow==2.13.0->-r ../requirements.txt (line 3)) (68.0.0)\n",
      "Requirement already satisfied: six>=1.12.0 in /home/andrewli/miniconda3/envs/project-ki/lib/python3.11/site-packages (from tensorflow==2.13.0->-r ../requirements.txt (line 3)) (1.16.0)\n",
      "Requirement already satisfied: tensorboard<2.14,>=2.13 in /home/andrewli/miniconda3/envs/project-ki/lib/python3.11/site-packages (from tensorflow==2.13.0->-r ../requirements.txt (line 3)) (2.13.0)\n",
      "Requirement already satisfied: tensorflow-estimator<2.14,>=2.13.0 in /home/andrewli/miniconda3/envs/project-ki/lib/python3.11/site-packages (from tensorflow==2.13.0->-r ../requirements.txt (line 3)) (2.13.0)\n",
      "Requirement already satisfied: termcolor>=1.1.0 in /home/andrewli/miniconda3/envs/project-ki/lib/python3.11/site-packages (from tensorflow==2.13.0->-r ../requirements.txt (line 3)) (2.3.0)\n",
      "Requirement already satisfied: typing-extensions<4.6.0,>=3.6.6 in /home/andrewli/miniconda3/envs/project-ki/lib/python3.11/site-packages (from tensorflow==2.13.0->-r ../requirements.txt (line 3)) (4.5.0)\n",
      "Requirement already satisfied: wrapt>=1.11.0 in /home/andrewli/miniconda3/envs/project-ki/lib/python3.11/site-packages (from tensorflow==2.13.0->-r ../requirements.txt (line 3)) (1.15.0)\n",
      "Requirement already satisfied: tensorflow-io-gcs-filesystem>=0.23.1 in /home/andrewli/miniconda3/envs/project-ki/lib/python3.11/site-packages (from tensorflow==2.13.0->-r ../requirements.txt (line 3)) (0.33.0)\n",
      "Requirement already satisfied: filelock in /home/andrewli/miniconda3/envs/project-ki/lib/python3.11/site-packages (from transformers->-r ../requirements.txt (line 1)) (3.12.3)\n",
      "Requirement already satisfied: huggingface-hub<1.0,>=0.15.1 in /home/andrewli/miniconda3/envs/project-ki/lib/python3.11/site-packages (from transformers->-r ../requirements.txt (line 1)) (0.16.4)\n",
      "Requirement already satisfied: pyyaml>=5.1 in /home/andrewli/miniconda3/envs/project-ki/lib/python3.11/site-packages (from transformers->-r ../requirements.txt (line 1)) (6.0.1)\n",
      "Requirement already satisfied: regex!=2019.12.17 in /home/andrewli/miniconda3/envs/project-ki/lib/python3.11/site-packages (from transformers->-r ../requirements.txt (line 1)) (2023.8.8)\n",
      "Requirement already satisfied: requests in /home/andrewli/miniconda3/envs/project-ki/lib/python3.11/site-packages (from transformers->-r ../requirements.txt (line 1)) (2.31.0)\n",
      "Requirement already satisfied: tokenizers!=0.11.3,<0.14,>=0.11.1 in /home/andrewli/miniconda3/envs/project-ki/lib/python3.11/site-packages (from transformers->-r ../requirements.txt (line 1)) (0.13.3)\n",
      "Requirement already satisfied: safetensors>=0.3.1 in /home/andrewli/miniconda3/envs/project-ki/lib/python3.11/site-packages (from transformers->-r ../requirements.txt (line 1)) (0.3.3)\n",
      "Requirement already satisfied: tqdm>=4.27 in /home/andrewli/miniconda3/envs/project-ki/lib/python3.11/site-packages (from transformers->-r ../requirements.txt (line 1)) (4.66.1)\n",
      "Requirement already satisfied: comm>=0.1.1 in /home/andrewli/miniconda3/envs/project-ki/lib/python3.11/site-packages (from ipykernel->-r ../requirements.txt (line 2)) (0.1.4)\n",
      "Requirement already satisfied: debugpy>=1.6.5 in /home/andrewli/miniconda3/envs/project-ki/lib/python3.11/site-packages (from ipykernel->-r ../requirements.txt (line 2)) (1.6.7.post1)\n",
      "Requirement already satisfied: ipython>=7.23.1 in /home/andrewli/miniconda3/envs/project-ki/lib/python3.11/site-packages (from ipykernel->-r ../requirements.txt (line 2)) (8.15.0)\n",
      "Requirement already satisfied: jupyter-client>=6.1.12 in /home/andrewli/miniconda3/envs/project-ki/lib/python3.11/site-packages (from ipykernel->-r ../requirements.txt (line 2)) (8.3.1)\n",
      "Requirement already satisfied: jupyter-core!=5.0.*,>=4.12 in /home/andrewli/miniconda3/envs/project-ki/lib/python3.11/site-packages (from ipykernel->-r ../requirements.txt (line 2)) (5.3.1)\n",
      "Requirement already satisfied: matplotlib-inline>=0.1 in /home/andrewli/miniconda3/envs/project-ki/lib/python3.11/site-packages (from ipykernel->-r ../requirements.txt (line 2)) (0.1.6)\n",
      "Requirement already satisfied: nest-asyncio in /home/andrewli/miniconda3/envs/project-ki/lib/python3.11/site-packages (from ipykernel->-r ../requirements.txt (line 2)) (1.5.7)\n",
      "Requirement already satisfied: psutil in /home/andrewli/miniconda3/envs/project-ki/lib/python3.11/site-packages (from ipykernel->-r ../requirements.txt (line 2)) (5.9.5)\n",
      "Requirement already satisfied: pyzmq>=20 in /home/andrewli/miniconda3/envs/project-ki/lib/python3.11/site-packages (from ipykernel->-r ../requirements.txt (line 2)) (25.1.1)\n",
      "Requirement already satisfied: tornado>=6.1 in /home/andrewli/miniconda3/envs/project-ki/lib/python3.11/site-packages (from ipykernel->-r ../requirements.txt (line 2)) (6.3.3)\n",
      "Requirement already satisfied: traitlets>=5.4.0 in /home/andrewli/miniconda3/envs/project-ki/lib/python3.11/site-packages (from ipykernel->-r ../requirements.txt (line 2)) (5.9.0)\n",
      "Requirement already satisfied: pyarrow>=8.0.0 in /home/andrewli/miniconda3/envs/project-ki/lib/python3.11/site-packages (from datasets->-r ../requirements.txt (line 4)) (13.0.0)\n",
      "Requirement already satisfied: dill<0.3.8,>=0.3.0 in /home/andrewli/miniconda3/envs/project-ki/lib/python3.11/site-packages (from datasets->-r ../requirements.txt (line 4)) (0.3.7)\n",
      "Requirement already satisfied: pandas in /home/andrewli/miniconda3/envs/project-ki/lib/python3.11/site-packages (from datasets->-r ../requirements.txt (line 4)) (2.1.0)\n",
      "Requirement already satisfied: xxhash in /home/andrewli/miniconda3/envs/project-ki/lib/python3.11/site-packages (from datasets->-r ../requirements.txt (line 4)) (3.3.0)\n",
      "Requirement already satisfied: multiprocess in /home/andrewli/miniconda3/envs/project-ki/lib/python3.11/site-packages (from datasets->-r ../requirements.txt (line 4)) (0.70.15)\n",
      "Requirement already satisfied: fsspec[http]>=2021.11.1 in /home/andrewli/miniconda3/envs/project-ki/lib/python3.11/site-packages (from datasets->-r ../requirements.txt (line 4)) (2023.9.0)\n",
      "Requirement already satisfied: aiohttp in /home/andrewli/miniconda3/envs/project-ki/lib/python3.11/site-packages (from datasets->-r ../requirements.txt (line 4)) (3.8.5)\n",
      "Requirement already satisfied: cffi>=1.0 in /home/andrewli/miniconda3/envs/project-ki/lib/python3.11/site-packages (from soundfile->-r ../requirements.txt (line 5)) (1.15.1)\n",
      "Requirement already satisfied: audioread>=2.1.9 in /home/andrewli/miniconda3/envs/project-ki/lib/python3.11/site-packages (from librosa->-r ../requirements.txt (line 6)) (3.0.0)\n",
      "Requirement already satisfied: scipy>=1.2.0 in /home/andrewli/miniconda3/envs/project-ki/lib/python3.11/site-packages (from librosa->-r ../requirements.txt (line 6)) (1.11.2)\n",
      "Requirement already satisfied: scikit-learn>=0.20.0 in /home/andrewli/miniconda3/envs/project-ki/lib/python3.11/site-packages (from librosa->-r ../requirements.txt (line 6)) (1.3.0)\n",
      "Requirement already satisfied: joblib>=0.14 in /home/andrewli/miniconda3/envs/project-ki/lib/python3.11/site-packages (from librosa->-r ../requirements.txt (line 6)) (1.3.2)\n",
      "Requirement already satisfied: decorator>=4.3.0 in /home/andrewli/miniconda3/envs/project-ki/lib/python3.11/site-packages (from librosa->-r ../requirements.txt (line 6)) (5.1.1)\n",
      "Requirement already satisfied: numba>=0.51.0 in /home/andrewli/miniconda3/envs/project-ki/lib/python3.11/site-packages (from librosa->-r ../requirements.txt (line 6)) (0.57.1)\n",
      "Requirement already satisfied: pooch>=1.0 in /home/andrewli/miniconda3/envs/project-ki/lib/python3.11/site-packages (from librosa->-r ../requirements.txt (line 6)) (1.7.0)\n",
      "Requirement already satisfied: soxr>=0.3.2 in /home/andrewli/miniconda3/envs/project-ki/lib/python3.11/site-packages (from librosa->-r ../requirements.txt (line 6)) (0.3.6)\n",
      "Requirement already satisfied: lazy-loader>=0.1 in /home/andrewli/miniconda3/envs/project-ki/lib/python3.11/site-packages (from librosa->-r ../requirements.txt (line 6)) (0.3)\n",
      "Requirement already satisfied: msgpack>=1.0 in /home/andrewli/miniconda3/envs/project-ki/lib/python3.11/site-packages (from librosa->-r ../requirements.txt (line 6)) (1.0.5)\n",
      "Requirement already satisfied: wheel<1.0,>=0.23.0 in /home/andrewli/miniconda3/envs/project-ki/lib/python3.11/site-packages (from astunparse>=1.6.0->tensorflow==2.13.0->-r ../requirements.txt (line 3)) (0.38.4)\n",
      "Requirement already satisfied: pycparser in /home/andrewli/miniconda3/envs/project-ki/lib/python3.11/site-packages (from cffi>=1.0->soundfile->-r ../requirements.txt (line 5)) (2.21)\n",
      "Requirement already satisfied: attrs>=17.3.0 in /home/andrewli/miniconda3/envs/project-ki/lib/python3.11/site-packages (from aiohttp->datasets->-r ../requirements.txt (line 4)) (23.1.0)\n",
      "Requirement already satisfied: charset-normalizer<4.0,>=2.0 in /home/andrewli/miniconda3/envs/project-ki/lib/python3.11/site-packages (from aiohttp->datasets->-r ../requirements.txt (line 4)) (3.2.0)\n",
      "Requirement already satisfied: multidict<7.0,>=4.5 in /home/andrewli/miniconda3/envs/project-ki/lib/python3.11/site-packages (from aiohttp->datasets->-r ../requirements.txt (line 4)) (6.0.4)\n",
      "Requirement already satisfied: async-timeout<5.0,>=4.0.0a3 in /home/andrewli/miniconda3/envs/project-ki/lib/python3.11/site-packages (from aiohttp->datasets->-r ../requirements.txt (line 4)) (4.0.3)\n",
      "Requirement already satisfied: yarl<2.0,>=1.0 in /home/andrewli/miniconda3/envs/project-ki/lib/python3.11/site-packages (from aiohttp->datasets->-r ../requirements.txt (line 4)) (1.9.2)\n",
      "Requirement already satisfied: frozenlist>=1.1.1 in /home/andrewli/miniconda3/envs/project-ki/lib/python3.11/site-packages (from aiohttp->datasets->-r ../requirements.txt (line 4)) (1.4.0)\n",
      "Requirement already satisfied: aiosignal>=1.1.2 in /home/andrewli/miniconda3/envs/project-ki/lib/python3.11/site-packages (from aiohttp->datasets->-r ../requirements.txt (line 4)) (1.3.1)\n",
      "Requirement already satisfied: backcall in /home/andrewli/miniconda3/envs/project-ki/lib/python3.11/site-packages (from ipython>=7.23.1->ipykernel->-r ../requirements.txt (line 2)) (0.2.0)\n",
      "Requirement already satisfied: jedi>=0.16 in /home/andrewli/miniconda3/envs/project-ki/lib/python3.11/site-packages (from ipython>=7.23.1->ipykernel->-r ../requirements.txt (line 2)) (0.19.0)\n",
      "Requirement already satisfied: pickleshare in /home/andrewli/miniconda3/envs/project-ki/lib/python3.11/site-packages (from ipython>=7.23.1->ipykernel->-r ../requirements.txt (line 2)) (0.7.5)\n",
      "Requirement already satisfied: prompt-toolkit!=3.0.37,<3.1.0,>=3.0.30 in /home/andrewli/miniconda3/envs/project-ki/lib/python3.11/site-packages (from ipython>=7.23.1->ipykernel->-r ../requirements.txt (line 2)) (3.0.39)\n",
      "Requirement already satisfied: pygments>=2.4.0 in /home/andrewli/miniconda3/envs/project-ki/lib/python3.11/site-packages (from ipython>=7.23.1->ipykernel->-r ../requirements.txt (line 2)) (2.16.1)\n",
      "Requirement already satisfied: stack-data in /home/andrewli/miniconda3/envs/project-ki/lib/python3.11/site-packages (from ipython>=7.23.1->ipykernel->-r ../requirements.txt (line 2)) (0.6.2)\n",
      "Requirement already satisfied: pexpect>4.3 in /home/andrewli/miniconda3/envs/project-ki/lib/python3.11/site-packages (from ipython>=7.23.1->ipykernel->-r ../requirements.txt (line 2)) (4.8.0)\n",
      "Requirement already satisfied: python-dateutil>=2.8.2 in /home/andrewli/miniconda3/envs/project-ki/lib/python3.11/site-packages (from jupyter-client>=6.1.12->ipykernel->-r ../requirements.txt (line 2)) (2.8.2)\n",
      "Requirement already satisfied: platformdirs>=2.5 in /home/andrewli/miniconda3/envs/project-ki/lib/python3.11/site-packages (from jupyter-core!=5.0.*,>=4.12->ipykernel->-r ../requirements.txt (line 2)) (3.10.0)\n",
      "Requirement already satisfied: llvmlite<0.41,>=0.40.0dev0 in /home/andrewli/miniconda3/envs/project-ki/lib/python3.11/site-packages (from numba>=0.51.0->librosa->-r ../requirements.txt (line 6)) (0.40.1)\n",
      "Requirement already satisfied: idna<4,>=2.5 in /home/andrewli/miniconda3/envs/project-ki/lib/python3.11/site-packages (from requests->transformers->-r ../requirements.txt (line 1)) (3.4)\n",
      "Requirement already satisfied: urllib3<3,>=1.21.1 in /home/andrewli/miniconda3/envs/project-ki/lib/python3.11/site-packages (from requests->transformers->-r ../requirements.txt (line 1)) (1.26.16)\n",
      "Requirement already satisfied: certifi>=2017.4.17 in /home/andrewli/miniconda3/envs/project-ki/lib/python3.11/site-packages (from requests->transformers->-r ../requirements.txt (line 1)) (2023.7.22)\n",
      "Requirement already satisfied: threadpoolctl>=2.0.0 in /home/andrewli/miniconda3/envs/project-ki/lib/python3.11/site-packages (from scikit-learn>=0.20.0->librosa->-r ../requirements.txt (line 6)) (3.2.0)\n",
      "Requirement already satisfied: google-auth<3,>=1.6.3 in /home/andrewli/miniconda3/envs/project-ki/lib/python3.11/site-packages (from tensorboard<2.14,>=2.13->tensorflow==2.13.0->-r ../requirements.txt (line 3)) (2.22.0)\n",
      "Requirement already satisfied: google-auth-oauthlib<1.1,>=0.5 in /home/andrewli/miniconda3/envs/project-ki/lib/python3.11/site-packages (from tensorboard<2.14,>=2.13->tensorflow==2.13.0->-r ../requirements.txt (line 3)) (1.0.0)\n",
      "Requirement already satisfied: markdown>=2.6.8 in /home/andrewli/miniconda3/envs/project-ki/lib/python3.11/site-packages (from tensorboard<2.14,>=2.13->tensorflow==2.13.0->-r ../requirements.txt (line 3)) (3.4.4)\n",
      "Requirement already satisfied: tensorboard-data-server<0.8.0,>=0.7.0 in /home/andrewli/miniconda3/envs/project-ki/lib/python3.11/site-packages (from tensorboard<2.14,>=2.13->tensorflow==2.13.0->-r ../requirements.txt (line 3)) (0.7.1)\n",
      "Requirement already satisfied: werkzeug>=1.0.1 in /home/andrewli/miniconda3/envs/project-ki/lib/python3.11/site-packages (from tensorboard<2.14,>=2.13->tensorflow==2.13.0->-r ../requirements.txt (line 3)) (2.3.7)\n",
      "Requirement already satisfied: pytz>=2020.1 in /home/andrewli/miniconda3/envs/project-ki/lib/python3.11/site-packages (from pandas->datasets->-r ../requirements.txt (line 4)) (2023.3)\n",
      "Requirement already satisfied: tzdata>=2022.1 in /home/andrewli/miniconda3/envs/project-ki/lib/python3.11/site-packages (from pandas->datasets->-r ../requirements.txt (line 4)) (2023.3)\n",
      "Requirement already satisfied: cachetools<6.0,>=2.0.0 in /home/andrewli/miniconda3/envs/project-ki/lib/python3.11/site-packages (from google-auth<3,>=1.6.3->tensorboard<2.14,>=2.13->tensorflow==2.13.0->-r ../requirements.txt (line 3)) (5.3.1)\n",
      "Requirement already satisfied: pyasn1-modules>=0.2.1 in /home/andrewli/miniconda3/envs/project-ki/lib/python3.11/site-packages (from google-auth<3,>=1.6.3->tensorboard<2.14,>=2.13->tensorflow==2.13.0->-r ../requirements.txt (line 3)) (0.3.0)\n",
      "Requirement already satisfied: rsa<5,>=3.1.4 in /home/andrewli/miniconda3/envs/project-ki/lib/python3.11/site-packages (from google-auth<3,>=1.6.3->tensorboard<2.14,>=2.13->tensorflow==2.13.0->-r ../requirements.txt (line 3)) (4.9)\n",
      "Requirement already satisfied: requests-oauthlib>=0.7.0 in /home/andrewli/miniconda3/envs/project-ki/lib/python3.11/site-packages (from google-auth-oauthlib<1.1,>=0.5->tensorboard<2.14,>=2.13->tensorflow==2.13.0->-r ../requirements.txt (line 3)) (1.3.1)\n",
      "Requirement already satisfied: parso<0.9.0,>=0.8.3 in /home/andrewli/miniconda3/envs/project-ki/lib/python3.11/site-packages (from jedi>=0.16->ipython>=7.23.1->ipykernel->-r ../requirements.txt (line 2)) (0.8.3)\n",
      "Requirement already satisfied: ptyprocess>=0.5 in /home/andrewli/miniconda3/envs/project-ki/lib/python3.11/site-packages (from pexpect>4.3->ipython>=7.23.1->ipykernel->-r ../requirements.txt (line 2)) (0.7.0)\n",
      "Requirement already satisfied: wcwidth in /home/andrewli/miniconda3/envs/project-ki/lib/python3.11/site-packages (from prompt-toolkit!=3.0.37,<3.1.0,>=3.0.30->ipython>=7.23.1->ipykernel->-r ../requirements.txt (line 2)) (0.2.6)\n",
      "Requirement already satisfied: MarkupSafe>=2.1.1 in /home/andrewli/miniconda3/envs/project-ki/lib/python3.11/site-packages (from werkzeug>=1.0.1->tensorboard<2.14,>=2.13->tensorflow==2.13.0->-r ../requirements.txt (line 3)) (2.1.3)\n",
      "Requirement already satisfied: executing>=1.2.0 in /home/andrewli/miniconda3/envs/project-ki/lib/python3.11/site-packages (from stack-data->ipython>=7.23.1->ipykernel->-r ../requirements.txt (line 2)) (1.2.0)\n",
      "Requirement already satisfied: asttokens>=2.1.0 in /home/andrewli/miniconda3/envs/project-ki/lib/python3.11/site-packages (from stack-data->ipython>=7.23.1->ipykernel->-r ../requirements.txt (line 2)) (2.4.0)\n",
      "Requirement already satisfied: pure-eval in /home/andrewli/miniconda3/envs/project-ki/lib/python3.11/site-packages (from stack-data->ipython>=7.23.1->ipykernel->-r ../requirements.txt (line 2)) (0.2.2)\n",
      "Requirement already satisfied: pyasn1<0.6.0,>=0.4.6 in /home/andrewli/miniconda3/envs/project-ki/lib/python3.11/site-packages (from pyasn1-modules>=0.2.1->google-auth<3,>=1.6.3->tensorboard<2.14,>=2.13->tensorflow==2.13.0->-r ../requirements.txt (line 3)) (0.5.0)\n",
      "Requirement already satisfied: oauthlib>=3.0.0 in /home/andrewli/miniconda3/envs/project-ki/lib/python3.11/site-packages (from requests-oauthlib>=0.7.0->google-auth-oauthlib<1.1,>=0.5->tensorboard<2.14,>=2.13->tensorflow==2.13.0->-r ../requirements.txt (line 3)) (3.2.2)\n",
      "Note: you may need to restart the kernel to use updated packages.\n",
      "/usr/bin/zsh: /home/andrewli/miniconda3/envs/project-ki/lib/libncursesw.so.6: no version information available (required by /usr/bin/zsh)\n",
      "Mon Sep  4 14:21:55 2023       \n",
      "+---------------------------------------------------------------------------------------+\n",
      "| NVIDIA-SMI 535.104.05             Driver Version: 535.104.05   CUDA Version: 12.2     |\n",
      "|-----------------------------------------+----------------------+----------------------+\n",
      "| GPU  Name                 Persistence-M | Bus-Id        Disp.A | Volatile Uncorr. ECC |\n",
      "| Fan  Temp   Perf          Pwr:Usage/Cap |         Memory-Usage | GPU-Util  Compute M. |\n",
      "|                                         |                      |               MIG M. |\n",
      "|=========================================+======================+======================|\n",
      "|   0  NVIDIA GeForce GTX 1060 6GB    Off | 00000000:0B:00.0  On |                  N/A |\n",
      "| 12%   57C    P2              29W / 150W |   1207MiB /  6144MiB |     19%      Default |\n",
      "|                                         |                      |                  N/A |\n",
      "+-----------------------------------------+----------------------+----------------------+\n",
      "                                                                                         \n",
      "+---------------------------------------------------------------------------------------+\n",
      "| Processes:                                                                            |\n",
      "|  GPU   GI   CI        PID   Type   Process name                            GPU Memory |\n",
      "|        ID   ID                                                             Usage      |\n",
      "|=======================================================================================|\n",
      "|    0   N/A  N/A       774      G   /usr/lib/Xorg                               309MiB |\n",
      "|    0   N/A  N/A       895      G   /usr/bin/kwalletd5                            1MiB |\n",
      "|    0   N/A  N/A       935      G   /usr/bin/ksmserver                            1MiB |\n",
      "|    0   N/A  N/A       937      G   /usr/bin/kded5                               21MiB |\n",
      "|    0   N/A  N/A       938      G   /usr/bin/kwin_x11                            98MiB |\n",
      "|    0   N/A  N/A       981      G   /usr/bin/plasmashell                         50MiB |\n",
      "|    0   N/A  N/A      1023      G   ...b/polkit-kde-authentication-agent-1        1MiB |\n",
      "|    0   N/A  N/A      1137      G   /usr/bin/python                               1MiB |\n",
      "|    0   N/A  N/A      1141      G   /usr/lib/kdeconnectd                          1MiB |\n",
      "|    0   N/A  N/A      1152      G   /usr/bin/kaccess                              1MiB |\n",
      "|    0   N/A  N/A      1587      G   ...sion,SpareRendererForSitePerProcess      164MiB |\n",
      "|    0   N/A  N/A      2032      C   ...niconda3/envs/project-ki/bin/python      314MiB |\n",
      "|    0   N/A  N/A      2324      G   /opt/google/chrome/chrome                     1MiB |\n",
      "|    0   N/A  N/A      2368      G   ...3107573,16933337380841831643,262144      115MiB |\n",
      "|    0   N/A  N/A      4857      G   /usr/lib/baloorunner                          1MiB |\n",
      "|    0   N/A  N/A      4909      G   ...,WinRetrieveSuggestionsOnlyOnDemand      106MiB |\n",
      "|    0   N/A  N/A      5640      G   /usr/bin/konsole                              1MiB |\n",
      "+---------------------------------------------------------------------------------------+\n",
      "/usr/bin/zsh: /home/andrewli/miniconda3/envs/project-ki/lib/libncursesw.so.6: no version information available (required by /usr/bin/zsh)\n",
      "nvcc: NVIDIA (R) Cuda compiler driver\n",
      "Copyright (c) 2005-2023 NVIDIA Corporation\n",
      "Built on Tue_Jun_13_19:16:58_PDT_2023\n",
      "Cuda compilation tools, release 12.2, V12.2.91\n",
      "Build cuda_12.2.r12.2/compiler.32965470_0\n"
     ]
    }
   ],
   "source": [
    "%pip install -r ../requirements.txt # install dependencies\n",
    "\n",
    "!nvidia-smi # check that GPU drivers are functioning\n",
    "\n",
    "!nvcc -V # check that CUDA drivers are installed"
   ]
  },
  {
   "cell_type": "code",
   "execution_count": 6,
   "metadata": {},
   "outputs": [
    {
     "name": "stderr",
     "output_type": "stream",
     "text": [
      "2023-09-04 14:08:03.325835: W tensorflow/compiler/tf2tensorrt/utils/py_utils.cc:38] TF-TRT Warning: Could not find TensorRT\n",
      "No model was supplied, defaulted to distilbert-base-uncased-finetuned-sst-2-english and revision af0f99b (https://huggingface.co/distilbert-base-uncased-finetuned-sst-2-english).\n",
      "Using a pipeline without specifying a model name and revision in production is not recommended.\n",
      "2023-09-04 14:08:04.395789: I tensorflow/compiler/xla/stream_executor/cuda/cuda_gpu_executor.cc:995] successful NUMA node read from SysFS had negative value (-1), but there must be at least one NUMA node, so returning NUMA node zero. See more at https://github.com/torvalds/linux/blob/v6.0/Documentation/ABI/testing/sysfs-bus-pci#L344-L355\n",
      "2023-09-04 14:08:04.514274: I tensorflow/compiler/xla/stream_executor/cuda/cuda_gpu_executor.cc:995] successful NUMA node read from SysFS had negative value (-1), but there must be at least one NUMA node, so returning NUMA node zero. See more at https://github.com/torvalds/linux/blob/v6.0/Documentation/ABI/testing/sysfs-bus-pci#L344-L355\n",
      "2023-09-04 14:08:04.514488: I tensorflow/compiler/xla/stream_executor/cuda/cuda_gpu_executor.cc:995] successful NUMA node read from SysFS had negative value (-1), but there must be at least one NUMA node, so returning NUMA node zero. See more at https://github.com/torvalds/linux/blob/v6.0/Documentation/ABI/testing/sysfs-bus-pci#L344-L355\n",
      "2023-09-04 14:08:04.516750: I tensorflow/compiler/xla/stream_executor/cuda/cuda_gpu_executor.cc:995] successful NUMA node read from SysFS had negative value (-1), but there must be at least one NUMA node, so returning NUMA node zero. See more at https://github.com/torvalds/linux/blob/v6.0/Documentation/ABI/testing/sysfs-bus-pci#L344-L355\n",
      "2023-09-04 14:08:04.516908: I tensorflow/compiler/xla/stream_executor/cuda/cuda_gpu_executor.cc:995] successful NUMA node read from SysFS had negative value (-1), but there must be at least one NUMA node, so returning NUMA node zero. See more at https://github.com/torvalds/linux/blob/v6.0/Documentation/ABI/testing/sysfs-bus-pci#L344-L355\n",
      "2023-09-04 14:08:04.517042: I tensorflow/compiler/xla/stream_executor/cuda/cuda_gpu_executor.cc:995] successful NUMA node read from SysFS had negative value (-1), but there must be at least one NUMA node, so returning NUMA node zero. See more at https://github.com/torvalds/linux/blob/v6.0/Documentation/ABI/testing/sysfs-bus-pci#L344-L355\n",
      "2023-09-04 14:08:04.588092: I tensorflow/compiler/xla/stream_executor/cuda/cuda_gpu_executor.cc:995] successful NUMA node read from SysFS had negative value (-1), but there must be at least one NUMA node, so returning NUMA node zero. See more at https://github.com/torvalds/linux/blob/v6.0/Documentation/ABI/testing/sysfs-bus-pci#L344-L355\n",
      "2023-09-04 14:08:04.588267: I tensorflow/compiler/xla/stream_executor/cuda/cuda_gpu_executor.cc:995] successful NUMA node read from SysFS had negative value (-1), but there must be at least one NUMA node, so returning NUMA node zero. See more at https://github.com/torvalds/linux/blob/v6.0/Documentation/ABI/testing/sysfs-bus-pci#L344-L355\n",
      "2023-09-04 14:08:04.588407: I tensorflow/compiler/xla/stream_executor/cuda/cuda_gpu_executor.cc:995] successful NUMA node read from SysFS had negative value (-1), but there must be at least one NUMA node, so returning NUMA node zero. See more at https://github.com/torvalds/linux/blob/v6.0/Documentation/ABI/testing/sysfs-bus-pci#L344-L355\n",
      "2023-09-04 14:08:04.588537: I tensorflow/core/common_runtime/gpu/gpu_device.cc:1639] Created device /job:localhost/replica:0/task:0/device:GPU:0 with 4652 MB memory:  -> device: 0, name: NVIDIA GeForce GTX 1060 6GB, pci bus id: 0000:0b:00.0, compute capability: 6.1\n",
      "All PyTorch model weights were used when initializing TFDistilBertForSequenceClassification.\n",
      "\n",
      "All the weights of TFDistilBertForSequenceClassification were initialized from the PyTorch model.\n",
      "If your task is similar to the task the model of the checkpoint was trained on, you can already use TFDistilBertForSequenceClassification for predictions without further training.\n"
     ]
    },
    {
     "name": "stdout",
     "output_type": "stream",
     "text": [
      "[{'label': 'POSITIVE', 'score': 0.9998704195022583}]\n"
     ]
    }
   ],
   "source": [
    "# test that successfully installed\n",
    "from transformers import pipeline\n",
    "\n",
    "print(pipeline(\"sentiment-analysis\")(\"we love you\"))\n",
    "\n",
    "# if output is received: that means that Huggingface.co library is working as intended."
   ]
  },
  {
   "cell_type": "code",
   "execution_count": 2,
   "metadata": {},
   "outputs": [
    {
     "name": "stderr",
     "output_type": "stream",
     "text": [
      "2023-09-04 14:22:01.765868: I tensorflow/core/platform/cpu_feature_guard.cc:182] This TensorFlow binary is optimized to use available CPU instructions in performance-critical operations.\n",
      "To enable the following instructions: AVX2 FMA, in other operations, rebuild TensorFlow with the appropriate compiler flags.\n",
      "2023-09-04 14:22:02.323981: W tensorflow/compiler/tf2tensorrt/utils/py_utils.cc:38] TF-TRT Warning: Could not find TensorRT\n"
     ]
    },
    {
     "name": "stdout",
     "output_type": "stream",
     "text": [
      "WARNING:tensorflow:From /tmp/ipykernel_7569/3665932588.py:4: is_gpu_available (from tensorflow.python.framework.test_util) is deprecated and will be removed in a future version.\n",
      "Instructions for updating:\n",
      "Use `tf.config.list_physical_devices('GPU')` instead.\n",
      "GPU is available for use: True\n"
     ]
    },
    {
     "name": "stderr",
     "output_type": "stream",
     "text": [
      "2023-09-04 14:22:02.997205: I tensorflow/compiler/xla/stream_executor/cuda/cuda_gpu_executor.cc:995] successful NUMA node read from SysFS had negative value (-1), but there must be at least one NUMA node, so returning NUMA node zero. See more at https://github.com/torvalds/linux/blob/v6.0/Documentation/ABI/testing/sysfs-bus-pci#L344-L355\n",
      "2023-09-04 14:22:03.013469: I tensorflow/compiler/xla/stream_executor/cuda/cuda_gpu_executor.cc:995] successful NUMA node read from SysFS had negative value (-1), but there must be at least one NUMA node, so returning NUMA node zero. See more at https://github.com/torvalds/linux/blob/v6.0/Documentation/ABI/testing/sysfs-bus-pci#L344-L355\n",
      "2023-09-04 14:22:03.013653: I tensorflow/compiler/xla/stream_executor/cuda/cuda_gpu_executor.cc:995] successful NUMA node read from SysFS had negative value (-1), but there must be at least one NUMA node, so returning NUMA node zero. See more at https://github.com/torvalds/linux/blob/v6.0/Documentation/ABI/testing/sysfs-bus-pci#L344-L355\n",
      "2023-09-04 14:22:03.064646: I tensorflow/compiler/xla/stream_executor/cuda/cuda_gpu_executor.cc:995] successful NUMA node read from SysFS had negative value (-1), but there must be at least one NUMA node, so returning NUMA node zero. See more at https://github.com/torvalds/linux/blob/v6.0/Documentation/ABI/testing/sysfs-bus-pci#L344-L355\n",
      "2023-09-04 14:22:03.064815: I tensorflow/compiler/xla/stream_executor/cuda/cuda_gpu_executor.cc:995] successful NUMA node read from SysFS had negative value (-1), but there must be at least one NUMA node, so returning NUMA node zero. See more at https://github.com/torvalds/linux/blob/v6.0/Documentation/ABI/testing/sysfs-bus-pci#L344-L355\n",
      "2023-09-04 14:22:03.064945: I tensorflow/compiler/xla/stream_executor/cuda/cuda_gpu_executor.cc:995] successful NUMA node read from SysFS had negative value (-1), but there must be at least one NUMA node, so returning NUMA node zero. See more at https://github.com/torvalds/linux/blob/v6.0/Documentation/ABI/testing/sysfs-bus-pci#L344-L355\n",
      "2023-09-04 14:22:03.065053: I tensorflow/core/common_runtime/gpu/gpu_device.cc:1639] Created device /device:GPU:0 with 4270 MB memory:  -> device: 0, name: NVIDIA GeForce GTX 1060 6GB, pci bus id: 0000:0b:00.0, compute capability: 6.1\n"
     ]
    }
   ],
   "source": [
    "# check that gpu computation is available\n",
    "import tensorflow as tf\n",
    "\n",
    "status = tf.test.is_gpu_available()\n",
    "\n",
    "print(f\"GPU is available for use: {status}\")"
   ]
  },
  {
   "cell_type": "code",
   "execution_count": 3,
   "metadata": {},
   "outputs": [
    {
     "name": "stdout",
     "output_type": "stream",
     "text": [
      "2.13.0\n"
     ]
    },
    {
     "name": "stderr",
     "output_type": "stream",
     "text": [
      "2023-09-04 14:22:12.782740: I tensorflow/compiler/xla/stream_executor/cuda/cuda_gpu_executor.cc:995] successful NUMA node read from SysFS had negative value (-1), but there must be at least one NUMA node, so returning NUMA node zero. See more at https://github.com/torvalds/linux/blob/v6.0/Documentation/ABI/testing/sysfs-bus-pci#L344-L355\n",
      "2023-09-04 14:22:12.782927: I tensorflow/compiler/xla/stream_executor/cuda/cuda_gpu_executor.cc:995] successful NUMA node read from SysFS had negative value (-1), but there must be at least one NUMA node, so returning NUMA node zero. See more at https://github.com/torvalds/linux/blob/v6.0/Documentation/ABI/testing/sysfs-bus-pci#L344-L355\n",
      "2023-09-04 14:22:12.783058: I tensorflow/compiler/xla/stream_executor/cuda/cuda_gpu_executor.cc:995] successful NUMA node read from SysFS had negative value (-1), but there must be at least one NUMA node, so returning NUMA node zero. See more at https://github.com/torvalds/linux/blob/v6.0/Documentation/ABI/testing/sysfs-bus-pci#L344-L355\n"
     ]
    }
   ],
   "source": [
    "import tensorflow as tf\n",
    "\n",
    "print(tf.__version__)\n",
    "\n",
    "for gpu in tf.config.list_physical_devices(\"gpu\"):\n",
    "    if gpu:\n",
    "        try:\n",
    "            tf.config.experimental.set_memory_growth(gpu, True)\n",
    "        except RuntimeError as e:\n",
    "            print(e)"
   ]
  },
  {
   "cell_type": "code",
   "execution_count": 7,
   "metadata": {},
   "outputs": [
    {
     "name": "stdout",
     "output_type": "stream",
     "text": [
      "['/home/andrewli/c/project-ki/src', '/home/andrewli/miniconda3/envs/project-ki/lib/python311.zip', '/home/andrewli/miniconda3/envs/project-ki/lib/python3.11', '/home/andrewli/miniconda3/envs/project-ki/lib/python3.11/lib-dynload', '', '/home/andrewli/miniconda3/envs/project-ki/lib/python3.11/site-packages']\n",
      "/home/andrewli/c/project-ki/src\n"
     ]
    }
   ],
   "source": [
    "# append project to pythonpath for module importing\n",
    "import sys\n",
    "from os import getcwd as cwd, environ as env\n",
    "\n",
    "print(sys.path)\n",
    "print(cwd())\n",
    "\n",
    "if not (cwd() in sys.path):\n",
    "    sys.path.append(cwd())"
   ]
  }
 ],
 "metadata": {
  "kernelspec": {
   "display_name": "venv",
   "language": "python",
   "name": "python3"
  },
  "language_info": {
   "codemirror_mode": {
    "name": "ipython",
    "version": 3
   },
   "file_extension": ".py",
   "mimetype": "text/x-python",
   "name": "python",
   "nbconvert_exporter": "python",
   "pygments_lexer": "ipython3",
   "version": "3.11.4"
  },
  "orig_nbformat": 4
 },
 "nbformat": 4,
 "nbformat_minor": 2
}
