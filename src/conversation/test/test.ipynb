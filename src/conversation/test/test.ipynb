{
 "cells": [
  {
   "cell_type": "code",
   "execution_count": 1,
   "metadata": {},
   "outputs": [],
   "source": [
    "from characterai import PyCAI\n",
    "\n",
    "cai = PyCAI(\"4c1141f5c9fc59f005cde148ff66199604bc428e\")"
   ]
  },
  {
   "cell_type": "code",
   "execution_count": 20,
   "metadata": {},
   "outputs": [
    {
     "data": {
      "text/plain": [
       "{'replies': [{'text': 'Your name is Andrew.',\n",
       "   'uuid': 'ac2b073b-6ebe-4cb1-aa67-c4e66bc49080',\n",
       "   'id': 323372045940108051}],\n",
       " 'src_char': {'participant': {'name': 'Robert'}, 'avatar_file_name': ''},\n",
       " 'is_final_chunk': True,\n",
       " 'last_user_msg_id': 323372045940108048,\n",
       " 'last_user_msg_uuid': '44b5bef8-2494-41ab-a9d0-8a9e4a881ada'}"
      ]
     },
     "execution_count": 20,
     "metadata": {},
     "output_type": "execute_result"
    }
   ],
   "source": [
    "# chat = cai.chat.get_chat(\"nGGb0orq_hkSHzOap0-cOFjpvEe2054cJaklBXr6Fm4\")\n",
    "\n",
    "import json\n",
    "\n",
    "caiCharCode = \"Ep8WYOOYSW7StZCcBQ77lZmL_5WwSZC8A19dxsSwWbU\"\n",
    "\n",
    "h = \"QrCsIazKoz4rFLUCSZ3sgOQWa7dGZntCga_J1F-VUCI\"\n",
    "\n",
    "# c = cai.chat.get_chat(\"Ep8WYOOYSW7StZCcBQ77lZmL_5WwSZC8A19dxsSwWbU\")\n",
    "\n",
    "tgt = cai.chat.get_chat(caiCharCode)[\"participants\"][0][\"user\"][\"username\"] if not cai.chat.get_chat(caiCharCode)[\n",
    "    \"participants\"][0][\"is_human\"] else cai.chat.get_chat(caiCharCode)[\"participants\"][1][\"user\"][\"username\"]\n",
    "\n",
    "cai.chat.send_message(history_id=h, tgt=tgt, text=\"What is my name?\")"
   ]
  },
  {
   "cell_type": "code",
   "execution_count": 3,
   "metadata": {},
   "outputs": [
    {
     "data": {
      "text/plain": [
       "{'title': '',\n",
       " 'participants': [{'user': {'username': 'dementiaaswad',\n",
       "    'id': 112596121,\n",
       "    'first_name': 'Andrew',\n",
       "    'account': {'name': 'dementiaaswad',\n",
       "     'avatar_type': 'DEFAULT',\n",
       "     'onboarding_complete': True,\n",
       "     'avatar_file_name': '',\n",
       "     'mobile_onboarding_complete': 12},\n",
       "    'is_staff': False},\n",
       "   'is_human': True,\n",
       "   'name': 'dementiaaswad',\n",
       "   'num_interactions': 0},\n",
       "  {'user': {'username': 'internal_id:3b248c9d-412d-4f63-a567-217469841e80',\n",
       "    'id': 255422995,\n",
       "    'first_name': 'Robert',\n",
       "    'account': None,\n",
       "    'is_staff': False},\n",
       "   'is_human': False,\n",
       "   'name': 'Robert',\n",
       "   'num_interactions': 0}],\n",
       " 'external_id': '7An5RNaY_GE6_MomzvPso5LYDyC6_SZOtMm2WyaW_Cc',\n",
       " 'created': '2023-10-24T06:44:25.029190-07:00',\n",
       " 'last_interaction': '2023-10-24T06:44:25.028692-07:00',\n",
       " 'type': 'CHAT',\n",
       " 'description': '',\n",
       " 'speech': None,\n",
       " 'status': 'OK',\n",
       " 'has_more': False,\n",
       " 'messages': [{'deleted': False,\n",
       "   'id ': 623372047209488260,\n",
       "   'image_prompt_text': '',\n",
       "   'image_rel_path': '',\n",
       "   'is_alternative': False,\n",
       "   'responsible_user__username': 'dementiaaswad',\n",
       "   'src__character__avatar_file_name': '',\n",
       "   'src__is_human': False,\n",
       "   'src__name': 'Robert',\n",
       "   'src__user__username': 'dementiaaswad',\n",
       "   'src_char': {'avatar_file_name': '', 'participant': {'name': 'Robert'}},\n",
       "   'text': 'Hello, my name is Robert. I am an artificial chatbot used for the International Baccalaureate personal project. I am not alive, therefore I cannot provide you with present knowledge. However, I will try to have a conversation with you. It is nice to meet you.'}]}"
      ]
     },
     "execution_count": 3,
     "metadata": {},
     "output_type": "execute_result"
    }
   ],
   "source": [
    "caiCharCode = \"Ep8WYOOYSW7StZCcBQ77lZmL_5WwSZC8A19dxsSwWbU\"\n",
    "\n",
    "cai.chat.new_chat(char=caiCharCode)"
   ]
  }
 ],
 "metadata": {
  "kernelspec": {
   "display_name": "project-ki",
   "language": "python",
   "name": "python3"
  },
  "language_info": {
   "codemirror_mode": {
    "name": "ipython",
    "version": 3
   },
   "file_extension": ".py",
   "mimetype": "text/x-python",
   "name": "python",
   "nbconvert_exporter": "python",
   "pygments_lexer": "ipython3",
   "version": "3.11.4"
  },
  "orig_nbformat": 4
 },
 "nbformat": 4,
 "nbformat_minor": 2
}
