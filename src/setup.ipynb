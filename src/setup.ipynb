{
 "cells": [
  {
   "cell_type": "markdown",
   "metadata": {},
   "source": [
    "Install required dependencies\n",
    "\n",
    "For computer systems, make sure to install ``cuda`` and ``cuda-tools`` package (on arch atleast)"
   ]
  },
  {
   "cell_type": "code",
   "execution_count": 1,
   "metadata": {},
   "outputs": [
    {
     "name": "stdout",
     "output_type": "stream",
     "text": [
      "Requirement already satisfied: transformers in /home/andrewli/c/project-ki/venv/lib/python3.11/site-packages (from -r ../requirements.txt (line 1)) (4.32.1)\n",
      "Requirement already satisfied: ipykernel in /home/andrewli/c/project-ki/venv/lib/python3.11/site-packages (from -r ../requirements.txt (line 2)) (6.25.1)\n",
      "Requirement already satisfied: tensorflow in /home/andrewli/c/project-ki/venv/lib/python3.11/site-packages (from -r ../requirements.txt (line 3)) (2.13.0)\n",
      "Requirement already satisfied: filelock in /home/andrewli/c/project-ki/venv/lib/python3.11/site-packages (from transformers->-r ../requirements.txt (line 1)) (3.12.3)\n",
      "Requirement already satisfied: huggingface-hub<1.0,>=0.15.1 in /home/andrewli/c/project-ki/venv/lib/python3.11/site-packages (from transformers->-r ../requirements.txt (line 1)) (0.16.4)\n",
      "Requirement already satisfied: numpy>=1.17 in /home/andrewli/c/project-ki/venv/lib/python3.11/site-packages (from transformers->-r ../requirements.txt (line 1)) (1.24.3)\n",
      "Requirement already satisfied: packaging>=20.0 in /home/andrewli/c/project-ki/venv/lib/python3.11/site-packages (from transformers->-r ../requirements.txt (line 1)) (23.1)\n",
      "Requirement already satisfied: pyyaml>=5.1 in /home/andrewli/c/project-ki/venv/lib/python3.11/site-packages (from transformers->-r ../requirements.txt (line 1)) (6.0.1)\n",
      "Requirement already satisfied: regex!=2019.12.17 in /home/andrewli/c/project-ki/venv/lib/python3.11/site-packages (from transformers->-r ../requirements.txt (line 1)) (2023.8.8)\n",
      "Requirement already satisfied: requests in /home/andrewli/c/project-ki/venv/lib/python3.11/site-packages (from transformers->-r ../requirements.txt (line 1)) (2.31.0)\n",
      "Requirement already satisfied: tokenizers!=0.11.3,<0.14,>=0.11.1 in /home/andrewli/c/project-ki/venv/lib/python3.11/site-packages (from transformers->-r ../requirements.txt (line 1)) (0.13.3)\n",
      "Requirement already satisfied: safetensors>=0.3.1 in /home/andrewli/c/project-ki/venv/lib/python3.11/site-packages (from transformers->-r ../requirements.txt (line 1)) (0.3.3)\n",
      "Requirement already satisfied: tqdm>=4.27 in /home/andrewli/c/project-ki/venv/lib/python3.11/site-packages (from transformers->-r ../requirements.txt (line 1)) (4.66.1)\n",
      "Requirement already satisfied: comm>=0.1.1 in /home/andrewli/c/project-ki/venv/lib/python3.11/site-packages (from ipykernel->-r ../requirements.txt (line 2)) (0.1.4)\n",
      "Requirement already satisfied: debugpy>=1.6.5 in /home/andrewli/c/project-ki/venv/lib/python3.11/site-packages (from ipykernel->-r ../requirements.txt (line 2)) (1.6.7.post1)\n",
      "Requirement already satisfied: ipython>=7.23.1 in /home/andrewli/c/project-ki/venv/lib/python3.11/site-packages (from ipykernel->-r ../requirements.txt (line 2)) (8.14.0)\n",
      "Requirement already satisfied: jupyter-client>=6.1.12 in /home/andrewli/c/project-ki/venv/lib/python3.11/site-packages (from ipykernel->-r ../requirements.txt (line 2)) (8.3.1)\n",
      "Requirement already satisfied: jupyter-core!=5.0.*,>=4.12 in /home/andrewli/c/project-ki/venv/lib/python3.11/site-packages (from ipykernel->-r ../requirements.txt (line 2)) (5.3.1)\n",
      "Requirement already satisfied: matplotlib-inline>=0.1 in /home/andrewli/c/project-ki/venv/lib/python3.11/site-packages (from ipykernel->-r ../requirements.txt (line 2)) (0.1.6)\n",
      "Requirement already satisfied: nest-asyncio in /home/andrewli/c/project-ki/venv/lib/python3.11/site-packages (from ipykernel->-r ../requirements.txt (line 2)) (1.5.7)\n",
      "Requirement already satisfied: psutil in /home/andrewli/c/project-ki/venv/lib/python3.11/site-packages (from ipykernel->-r ../requirements.txt (line 2)) (5.9.5)\n",
      "Requirement already satisfied: pyzmq>=20 in /home/andrewli/c/project-ki/venv/lib/python3.11/site-packages (from ipykernel->-r ../requirements.txt (line 2)) (25.1.1)\n",
      "Requirement already satisfied: tornado>=6.1 in /home/andrewli/c/project-ki/venv/lib/python3.11/site-packages (from ipykernel->-r ../requirements.txt (line 2)) (6.3.3)\n",
      "Requirement already satisfied: traitlets>=5.4.0 in /home/andrewli/c/project-ki/venv/lib/python3.11/site-packages (from ipykernel->-r ../requirements.txt (line 2)) (5.9.0)\n",
      "Requirement already satisfied: absl-py>=1.0.0 in /home/andrewli/c/project-ki/venv/lib/python3.11/site-packages (from tensorflow->-r ../requirements.txt (line 3)) (1.4.0)\n",
      "Requirement already satisfied: astunparse>=1.6.0 in /home/andrewli/c/project-ki/venv/lib/python3.11/site-packages (from tensorflow->-r ../requirements.txt (line 3)) (1.6.3)\n",
      "Requirement already satisfied: flatbuffers>=23.1.21 in /home/andrewli/c/project-ki/venv/lib/python3.11/site-packages (from tensorflow->-r ../requirements.txt (line 3)) (23.5.26)\n",
      "Requirement already satisfied: gast<=0.4.0,>=0.2.1 in /home/andrewli/c/project-ki/venv/lib/python3.11/site-packages (from tensorflow->-r ../requirements.txt (line 3)) (0.4.0)\n",
      "Requirement already satisfied: google-pasta>=0.1.1 in /home/andrewli/c/project-ki/venv/lib/python3.11/site-packages (from tensorflow->-r ../requirements.txt (line 3)) (0.2.0)\n",
      "Requirement already satisfied: grpcio<2.0,>=1.24.3 in /home/andrewli/c/project-ki/venv/lib/python3.11/site-packages (from tensorflow->-r ../requirements.txt (line 3)) (1.57.0)\n",
      "Requirement already satisfied: h5py>=2.9.0 in /home/andrewli/c/project-ki/venv/lib/python3.11/site-packages (from tensorflow->-r ../requirements.txt (line 3)) (3.9.0)\n",
      "Requirement already satisfied: keras<2.14,>=2.13.1 in /home/andrewli/c/project-ki/venv/lib/python3.11/site-packages (from tensorflow->-r ../requirements.txt (line 3)) (2.13.1)\n",
      "Requirement already satisfied: libclang>=13.0.0 in /home/andrewli/c/project-ki/venv/lib/python3.11/site-packages (from tensorflow->-r ../requirements.txt (line 3)) (16.0.6)\n",
      "Requirement already satisfied: opt-einsum>=2.3.2 in /home/andrewli/c/project-ki/venv/lib/python3.11/site-packages (from tensorflow->-r ../requirements.txt (line 3)) (3.3.0)\n",
      "Requirement already satisfied: protobuf!=4.21.0,!=4.21.1,!=4.21.2,!=4.21.3,!=4.21.4,!=4.21.5,<5.0.0dev,>=3.20.3 in /home/andrewli/c/project-ki/venv/lib/python3.11/site-packages (from tensorflow->-r ../requirements.txt (line 3)) (4.24.2)\n",
      "Requirement already satisfied: setuptools in /home/andrewli/c/project-ki/venv/lib/python3.11/site-packages (from tensorflow->-r ../requirements.txt (line 3)) (65.5.0)\n",
      "Requirement already satisfied: six>=1.12.0 in /home/andrewli/c/project-ki/venv/lib/python3.11/site-packages (from tensorflow->-r ../requirements.txt (line 3)) (1.16.0)\n",
      "Requirement already satisfied: tensorboard<2.14,>=2.13 in /home/andrewli/c/project-ki/venv/lib/python3.11/site-packages (from tensorflow->-r ../requirements.txt (line 3)) (2.13.0)\n",
      "Requirement already satisfied: tensorflow-estimator<2.14,>=2.13.0 in /home/andrewli/c/project-ki/venv/lib/python3.11/site-packages (from tensorflow->-r ../requirements.txt (line 3)) (2.13.0)\n",
      "Requirement already satisfied: termcolor>=1.1.0 in /home/andrewli/c/project-ki/venv/lib/python3.11/site-packages (from tensorflow->-r ../requirements.txt (line 3)) (2.3.0)\n",
      "Requirement already satisfied: typing-extensions<4.6.0,>=3.6.6 in /home/andrewli/c/project-ki/venv/lib/python3.11/site-packages (from tensorflow->-r ../requirements.txt (line 3)) (4.5.0)\n",
      "Requirement already satisfied: wrapt>=1.11.0 in /home/andrewli/c/project-ki/venv/lib/python3.11/site-packages (from tensorflow->-r ../requirements.txt (line 3)) (1.15.0)\n",
      "Requirement already satisfied: tensorflow-io-gcs-filesystem>=0.23.1 in /home/andrewli/c/project-ki/venv/lib/python3.11/site-packages (from tensorflow->-r ../requirements.txt (line 3)) (0.33.0)\n",
      "Requirement already satisfied: wheel<1.0,>=0.23.0 in /home/andrewli/c/project-ki/venv/lib/python3.11/site-packages (from astunparse>=1.6.0->tensorflow->-r ../requirements.txt (line 3)) (0.41.2)\n",
      "Requirement already satisfied: fsspec in /home/andrewli/c/project-ki/venv/lib/python3.11/site-packages (from huggingface-hub<1.0,>=0.15.1->transformers->-r ../requirements.txt (line 1)) (2023.6.0)\n",
      "Requirement already satisfied: backcall in /home/andrewli/c/project-ki/venv/lib/python3.11/site-packages (from ipython>=7.23.1->ipykernel->-r ../requirements.txt (line 2)) (0.2.0)\n",
      "Requirement already satisfied: decorator in /home/andrewli/c/project-ki/venv/lib/python3.11/site-packages (from ipython>=7.23.1->ipykernel->-r ../requirements.txt (line 2)) (5.1.1)\n",
      "Requirement already satisfied: jedi>=0.16 in /home/andrewli/c/project-ki/venv/lib/python3.11/site-packages (from ipython>=7.23.1->ipykernel->-r ../requirements.txt (line 2)) (0.19.0)\n",
      "Requirement already satisfied: pickleshare in /home/andrewli/c/project-ki/venv/lib/python3.11/site-packages (from ipython>=7.23.1->ipykernel->-r ../requirements.txt (line 2)) (0.7.5)\n",
      "Requirement already satisfied: prompt-toolkit!=3.0.37,<3.1.0,>=3.0.30 in /home/andrewli/c/project-ki/venv/lib/python3.11/site-packages (from ipython>=7.23.1->ipykernel->-r ../requirements.txt (line 2)) (3.0.39)\n",
      "Requirement already satisfied: pygments>=2.4.0 in /home/andrewli/c/project-ki/venv/lib/python3.11/site-packages (from ipython>=7.23.1->ipykernel->-r ../requirements.txt (line 2)) (2.16.1)\n",
      "Requirement already satisfied: stack-data in /home/andrewli/c/project-ki/venv/lib/python3.11/site-packages (from ipython>=7.23.1->ipykernel->-r ../requirements.txt (line 2)) (0.6.2)\n",
      "Requirement already satisfied: pexpect>4.3 in /home/andrewli/c/project-ki/venv/lib/python3.11/site-packages (from ipython>=7.23.1->ipykernel->-r ../requirements.txt (line 2)) (4.8.0)\n",
      "Requirement already satisfied: python-dateutil>=2.8.2 in /home/andrewli/c/project-ki/venv/lib/python3.11/site-packages (from jupyter-client>=6.1.12->ipykernel->-r ../requirements.txt (line 2)) (2.8.2)\n",
      "Requirement already satisfied: platformdirs>=2.5 in /home/andrewli/c/project-ki/venv/lib/python3.11/site-packages (from jupyter-core!=5.0.*,>=4.12->ipykernel->-r ../requirements.txt (line 2)) (3.10.0)\n",
      "Requirement already satisfied: google-auth<3,>=1.6.3 in /home/andrewli/c/project-ki/venv/lib/python3.11/site-packages (from tensorboard<2.14,>=2.13->tensorflow->-r ../requirements.txt (line 3)) (2.22.0)\n",
      "Requirement already satisfied: google-auth-oauthlib<1.1,>=0.5 in /home/andrewli/c/project-ki/venv/lib/python3.11/site-packages (from tensorboard<2.14,>=2.13->tensorflow->-r ../requirements.txt (line 3)) (1.0.0)\n",
      "Requirement already satisfied: markdown>=2.6.8 in /home/andrewli/c/project-ki/venv/lib/python3.11/site-packages (from tensorboard<2.14,>=2.13->tensorflow->-r ../requirements.txt (line 3)) (3.4.4)\n",
      "Requirement already satisfied: tensorboard-data-server<0.8.0,>=0.7.0 in /home/andrewli/c/project-ki/venv/lib/python3.11/site-packages (from tensorboard<2.14,>=2.13->tensorflow->-r ../requirements.txt (line 3)) (0.7.1)\n",
      "Requirement already satisfied: werkzeug>=1.0.1 in /home/andrewli/c/project-ki/venv/lib/python3.11/site-packages (from tensorboard<2.14,>=2.13->tensorflow->-r ../requirements.txt (line 3)) (2.3.7)\n",
      "Requirement already satisfied: charset-normalizer<4,>=2 in /home/andrewli/c/project-ki/venv/lib/python3.11/site-packages (from requests->transformers->-r ../requirements.txt (line 1)) (3.2.0)\n",
      "Requirement already satisfied: idna<4,>=2.5 in /home/andrewli/c/project-ki/venv/lib/python3.11/site-packages (from requests->transformers->-r ../requirements.txt (line 1)) (3.4)\n",
      "Requirement already satisfied: urllib3<3,>=1.21.1 in /home/andrewli/c/project-ki/venv/lib/python3.11/site-packages (from requests->transformers->-r ../requirements.txt (line 1)) (1.26.16)\n",
      "Requirement already satisfied: certifi>=2017.4.17 in /home/andrewli/c/project-ki/venv/lib/python3.11/site-packages (from requests->transformers->-r ../requirements.txt (line 1)) (2023.7.22)\n",
      "Requirement already satisfied: cachetools<6.0,>=2.0.0 in /home/andrewli/c/project-ki/venv/lib/python3.11/site-packages (from google-auth<3,>=1.6.3->tensorboard<2.14,>=2.13->tensorflow->-r ../requirements.txt (line 3)) (5.3.1)\n",
      "Requirement already satisfied: pyasn1-modules>=0.2.1 in /home/andrewli/c/project-ki/venv/lib/python3.11/site-packages (from google-auth<3,>=1.6.3->tensorboard<2.14,>=2.13->tensorflow->-r ../requirements.txt (line 3)) (0.3.0)\n",
      "Requirement already satisfied: rsa<5,>=3.1.4 in /home/andrewli/c/project-ki/venv/lib/python3.11/site-packages (from google-auth<3,>=1.6.3->tensorboard<2.14,>=2.13->tensorflow->-r ../requirements.txt (line 3)) (4.9)\n",
      "Requirement already satisfied: requests-oauthlib>=0.7.0 in /home/andrewli/c/project-ki/venv/lib/python3.11/site-packages (from google-auth-oauthlib<1.1,>=0.5->tensorboard<2.14,>=2.13->tensorflow->-r ../requirements.txt (line 3)) (1.3.1)\n",
      "Requirement already satisfied: parso<0.9.0,>=0.8.3 in /home/andrewli/c/project-ki/venv/lib/python3.11/site-packages (from jedi>=0.16->ipython>=7.23.1->ipykernel->-r ../requirements.txt (line 2)) (0.8.3)\n",
      "Requirement already satisfied: ptyprocess>=0.5 in /home/andrewli/c/project-ki/venv/lib/python3.11/site-packages (from pexpect>4.3->ipython>=7.23.1->ipykernel->-r ../requirements.txt (line 2)) (0.7.0)\n",
      "Requirement already satisfied: wcwidth in /home/andrewli/c/project-ki/venv/lib/python3.11/site-packages (from prompt-toolkit!=3.0.37,<3.1.0,>=3.0.30->ipython>=7.23.1->ipykernel->-r ../requirements.txt (line 2)) (0.2.6)\n",
      "Requirement already satisfied: MarkupSafe>=2.1.1 in /home/andrewli/c/project-ki/venv/lib/python3.11/site-packages (from werkzeug>=1.0.1->tensorboard<2.14,>=2.13->tensorflow->-r ../requirements.txt (line 3)) (2.1.3)\n",
      "Requirement already satisfied: executing>=1.2.0 in /home/andrewli/c/project-ki/venv/lib/python3.11/site-packages (from stack-data->ipython>=7.23.1->ipykernel->-r ../requirements.txt (line 2)) (1.2.0)\n",
      "Requirement already satisfied: asttokens>=2.1.0 in /home/andrewli/c/project-ki/venv/lib/python3.11/site-packages (from stack-data->ipython>=7.23.1->ipykernel->-r ../requirements.txt (line 2)) (2.2.1)\n",
      "Requirement already satisfied: pure-eval in /home/andrewli/c/project-ki/venv/lib/python3.11/site-packages (from stack-data->ipython>=7.23.1->ipykernel->-r ../requirements.txt (line 2)) (0.2.2)\n",
      "Requirement already satisfied: pyasn1<0.6.0,>=0.4.6 in /home/andrewli/c/project-ki/venv/lib/python3.11/site-packages (from pyasn1-modules>=0.2.1->google-auth<3,>=1.6.3->tensorboard<2.14,>=2.13->tensorflow->-r ../requirements.txt (line 3)) (0.5.0)\n",
      "Requirement already satisfied: oauthlib>=3.0.0 in /home/andrewli/c/project-ki/venv/lib/python3.11/site-packages (from requests-oauthlib>=0.7.0->google-auth-oauthlib<1.1,>=0.5->tensorboard<2.14,>=2.13->tensorflow->-r ../requirements.txt (line 3)) (3.2.2)\n",
      "Note: you may need to restart the kernel to use updated packages.\n",
      "Fri Sep  1 10:29:09 2023       \n",
      "+---------------------------------------------------------------------------------------+\n",
      "| NVIDIA-SMI 535.104.05             Driver Version: 535.104.05   CUDA Version: 12.2     |\n",
      "|-----------------------------------------+----------------------+----------------------+\n",
      "| GPU  Name                 Persistence-M | Bus-Id        Disp.A | Volatile Uncorr. ECC |\n",
      "| Fan  Temp   Perf          Pwr:Usage/Cap |         Memory-Usage | GPU-Util  Compute M. |\n",
      "|                                         |                      |               MIG M. |\n",
      "|=========================================+======================+======================|\n",
      "|   0  NVIDIA GeForce GTX 1060 6GB    Off | 00000000:0B:00.0  On |                  N/A |\n",
      "|  0%   52C    P0              26W / 150W |    926MiB /  6144MiB |      9%      Default |\n",
      "|                                         |                      |                  N/A |\n",
      "+-----------------------------------------+----------------------+----------------------+\n",
      "                                                                                         \n",
      "+---------------------------------------------------------------------------------------+\n",
      "| Processes:                                                                            |\n",
      "|  GPU   GI   CI        PID   Type   Process name                            GPU Memory |\n",
      "|        ID   ID                                                             Usage      |\n",
      "|=======================================================================================|\n",
      "|    0   N/A  N/A       767      G   /usr/lib/Xorg                               286MiB |\n",
      "|    0   N/A  N/A       873      G   /usr/bin/kwalletd5                            1MiB |\n",
      "|    0   N/A  N/A       914      G   /usr/bin/ksmserver                            1MiB |\n",
      "|    0   N/A  N/A       916      G   /usr/bin/kded5                                1MiB |\n",
      "|    0   N/A  N/A       917      G   /usr/bin/kwin_x11                           159MiB |\n",
      "|    0   N/A  N/A       961      G   /usr/bin/plasmashell                         57MiB |\n",
      "|    0   N/A  N/A      1000      G   ...b/polkit-kde-authentication-agent-1        1MiB |\n",
      "|    0   N/A  N/A      1097      G   /usr/bin/python                               1MiB |\n",
      "|    0   N/A  N/A      1101      G   /usr/lib/kdeconnectd                          1MiB |\n",
      "|    0   N/A  N/A      1114      G   /usr/bin/kaccess                              1MiB |\n",
      "|    0   N/A  N/A      1470      G   /opt/google/chrome/chrome                     1MiB |\n",
      "|    0   N/A  N/A      1528      G   ...2601034,15071749008749227696,262144       93MiB |\n",
      "|    0   N/A  N/A      2197      G   ...sion,SpareRendererForSitePerProcess      216MiB |\n",
      "|    0   N/A  N/A      3092      G   /usr/bin/konsole                              1MiB |\n",
      "|    0   N/A  N/A      5680      G   /usr/lib/baloorunner                          1MiB |\n",
      "|    0   N/A  N/A      5803      G   ...,WinRetrieveSuggestionsOnlyOnDemand       84MiB |\n",
      "+---------------------------------------------------------------------------------------+\n",
      "nvcc: NVIDIA (R) Cuda compiler driver\n",
      "Copyright (c) 2005-2023 NVIDIA Corporation\n",
      "Built on Tue_Jun_13_19:16:58_PDT_2023\n",
      "Cuda compilation tools, release 12.2, V12.2.91\n",
      "Build cuda_12.2.r12.2/compiler.32965470_0\n"
     ]
    }
   ],
   "source": [
    "%pip install -r ../requirements.txt # install dependencies\n",
    "# sudo pacman -Sy downgrade clang cuda cudnn cuda-tools # install cuda and its tools\n",
    "# sudo downgrade cuda # install cuda version 11.8 and cudnn version 8.6\n",
    "# sudo downgrade cudnn\n",
    "\n",
    "!nvidia-smi # check that GPU drivers are functioning\n",
    "\n",
    "!nvcc -V # check that CUDA drivers are installed"
   ]
  },
  {
   "cell_type": "code",
   "execution_count": 4,
   "metadata": {},
   "outputs": [
    {
     "name": "stderr",
     "output_type": "stream",
     "text": [
      "/home/andrewli/c/project-ki/venv/lib/python3.11/site-packages/tqdm/auto.py:21: TqdmWarning: IProgress not found. Please update jupyter and ipywidgets. See https://ipywidgets.readthedocs.io/en/stable/user_install.html\n",
      "  from .autonotebook import tqdm as notebook_tqdm\n",
      "No model was supplied, defaulted to distilbert-base-uncased-finetuned-sst-2-english and revision af0f99b (https://huggingface.co/distilbert-base-uncased-finetuned-sst-2-english).\n",
      "Using a pipeline without specifying a model name and revision in production is not recommended.\n",
      "All PyTorch model weights were used when initializing TFDistilBertForSequenceClassification.\n",
      "\n",
      "All the weights of TFDistilBertForSequenceClassification were initialized from the PyTorch model.\n",
      "If your task is similar to the task the model of the checkpoint was trained on, you can already use TFDistilBertForSequenceClassification for predictions without further training.\n"
     ]
    },
    {
     "name": "stdout",
     "output_type": "stream",
     "text": [
      "[{'label': 'POSITIVE', 'score': 0.9998704195022583}]\n"
     ]
    }
   ],
   "source": [
    "# test that successfully installed\n",
    "from transformers import pipeline\n",
    "\n",
    "print(pipeline(\"sentiment-analysis\")(\"we love you\"))\n",
    "\n",
    "# if output is received: that means that Huggingface.co library is working as intended."
   ]
  },
  {
   "cell_type": "code",
   "execution_count": 1,
   "metadata": {},
   "outputs": [
    {
     "name": "stderr",
     "output_type": "stream",
     "text": [
      "2023-09-01 10:00:16.538235: I tensorflow/tsl/cuda/cudart_stub.cc:28] Could not find cuda drivers on your machine, GPU will not be used.\n",
      "2023-09-01 10:00:16.563746: I tensorflow/tsl/cuda/cudart_stub.cc:28] Could not find cuda drivers on your machine, GPU will not be used.\n",
      "2023-09-01 10:00:16.564455: I tensorflow/core/platform/cpu_feature_guard.cc:182] This TensorFlow binary is optimized to use available CPU instructions in performance-critical operations.\n",
      "To enable the following instructions: AVX2 FMA, in other operations, rebuild TensorFlow with the appropriate compiler flags.\n",
      "2023-09-01 10:00:17.140523: W tensorflow/compiler/tf2tensorrt/utils/py_utils.cc:38] TF-TRT Warning: Could not find TensorRT\n"
     ]
    },
    {
     "name": "stdout",
     "output_type": "stream",
     "text": [
      "[]\n"
     ]
    },
    {
     "name": "stderr",
     "output_type": "stream",
     "text": [
      "2023-09-01 10:00:17.568405: I tensorflow/compiler/xla/stream_executor/cuda/cuda_gpu_executor.cc:995] successful NUMA node read from SysFS had negative value (-1), but there must be at least one NUMA node, so returning NUMA node zero. See more at https://github.com/torvalds/linux/blob/v6.0/Documentation/ABI/testing/sysfs-bus-pci#L344-L355\n",
      "2023-09-01 10:00:17.658392: W tensorflow/core/common_runtime/gpu/gpu_device.cc:1960] Cannot dlopen some GPU libraries. Please make sure the missing libraries mentioned above are installed properly if you would like to use GPU. Follow the guide at https://www.tensorflow.org/install/gpu for how to download and setup the required libraries for your platform.\n",
      "Skipping registering GPU devices...\n"
     ]
    }
   ],
   "source": [
    "# check that gpu computation is available\n",
    "import tensorflow\n",
    "\n",
    "print(tensorflow.config.list_physical_devices(\"gpu\"))\n",
    "# if a list is received: that means that GPU support is ready"
   ]
  }
 ],
 "metadata": {
  "kernelspec": {
   "display_name": "venv",
   "language": "python",
   "name": "python3"
  },
  "language_info": {
   "codemirror_mode": {
    "name": "ipython",
    "version": 3
   },
   "file_extension": ".py",
   "mimetype": "text/x-python",
   "name": "python",
   "nbconvert_exporter": "python",
   "pygments_lexer": "ipython3",
   "version": "3.11.5"
  },
  "orig_nbformat": 4
 },
 "nbformat": 4,
 "nbformat_minor": 2
}
