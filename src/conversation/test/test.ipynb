{
 "cells": [
  {
   "cell_type": "code",
   "execution_count": 9,
   "metadata": {},
   "outputs": [],
   "source": [
    "from characterai import PyCAI\n",
    "\n",
    "cai = PyCAI(\"4c1141f5c9fc59f005cde148ff66199604bc428e\")"
   ]
  },
  {
   "cell_type": "code",
   "execution_count": 13,
   "metadata": {},
   "outputs": [
    {
     "name": "stdout",
     "output_type": "stream",
     "text": [
      "{'title': '', 'participants': [{'user': {'username': 'dementiaaswad', 'id': 112596121, 'first_name': 'Andrew', 'account': {'name': 'dementiaaswad', 'avatar_type': 'DEFAULT', 'onboarding_complete': True, 'avatar_file_name': '', 'mobile_onboarding_complete': 12}, 'is_staff': False}, 'is_human': True, 'name': 'dementiaaswad', 'num_interactions': 0}, {'user': {'username': 'internal_id:0b0b88e0-7955-4f24-ba57-587e057e0014', 'id': 63643563, 'first_name': 'Nagatoro and Friends', 'account': None, 'is_staff': False}, 'is_human': False, 'name': 'Nagatoro and Friends', 'num_interactions': 2878844}], 'external_id': 'MSgMCZWflH2QFHgV33OHgMMlsYnaWXDlrIH-N_L88QI', 'created': '2023-08-09T06:33:41.082969-07:00', 'last_interaction': '2023-10-12T15:00:59.861629-07:00', 'type': 'CHAT', 'description': ''}\n"
     ]
    }
   ],
   "source": [
    "chat = cai.chat.get_chat(\"nGGb0orq_hkSHzOap0-cOFjpvEe2054cJaklBXr6Fm4\")\n",
    "\n"
   ]
  }
 ],
 "metadata": {
  "kernelspec": {
   "display_name": "project-ki",
   "language": "python",
   "name": "python3"
  },
  "language_info": {
   "codemirror_mode": {
    "name": "ipython",
    "version": 3
   },
   "file_extension": ".py",
   "mimetype": "text/x-python",
   "name": "python",
   "nbconvert_exporter": "python",
   "pygments_lexer": "ipython3",
   "version": "3.11.4"
  },
  "orig_nbformat": 4
 },
 "nbformat": 4,
 "nbformat_minor": 2
}
