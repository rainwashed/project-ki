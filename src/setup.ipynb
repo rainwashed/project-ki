{
 "cells": [
  {
   "cell_type": "markdown",
   "metadata": {},
   "source": [
    "Install required dependencies\n",
    "\n",
    "For computer systems, make sure to install ``cuda`` and ``cuda-tools`` package (on arch atleast)\n",
    "\n",
    "read [this article](https://medium.com/nerd-for-tech/installing-tensorflow-with-gpu-acceleration-on-linux-f3f55dd15a9) for gpu setup"
   ]
  },
  {
   "cell_type": "code",
   "execution_count": 1,
   "metadata": {},
   "outputs": [
    {
     "name": "stdout",
     "output_type": "stream",
     "text": [
      "/bin/bash: /home/andrewli/miniconda3/envs/project-ki/lib/libtinfo.so.6: no version information available (required by /bin/bash)\n",
      "Requirement already satisfied: transformers in /home/andrewli/miniconda3/envs/project-ki/lib/python3.11/site-packages (from -r ../requirements.txt (line 1)) (4.32.1)\n",
      "Requirement already satisfied: ipykernel in /home/andrewli/miniconda3/envs/project-ki/lib/python3.11/site-packages (from -r ../requirements.txt (line 2)) (6.25.1)\n",
      "Requirement already satisfied: datasets in /home/andrewli/miniconda3/envs/project-ki/lib/python3.11/site-packages (from -r ../requirements.txt (line 4)) (2.14.4)\n",
      "Requirement already satisfied: soundfile in /home/andrewli/miniconda3/envs/project-ki/lib/python3.11/site-packages (from -r ../requirements.txt (line 5)) (0.12.1)\n",
      "Requirement already satisfied: librosa in /home/andrewli/miniconda3/envs/project-ki/lib/python3.11/site-packages (from -r ../requirements.txt (line 6)) (0.10.1)\n",
      "Requirement already satisfied: ffmpeg in /home/andrewli/miniconda3/envs/project-ki/lib/python3.11/site-packages (from -r ../requirements.txt (line 7)) (1.4)\n",
      "Requirement already satisfied: python-socketio in /home/andrewli/miniconda3/envs/project-ki/lib/python3.11/site-packages (from -r ../requirements.txt (line 8)) (5.9.0)\n",
      "Requirement already satisfied: asyncio in /home/andrewli/miniconda3/envs/project-ki/lib/python3.11/site-packages (from -r ../requirements.txt (line 9)) (3.4.3)\n",
      "Requirement already satisfied: aiohttp in /home/andrewli/miniconda3/envs/project-ki/lib/python3.11/site-packages (from -r ../requirements.txt (line 10)) (3.8.5)\n",
      "Requirement already satisfied: jurigged in /home/andrewli/miniconda3/envs/project-ki/lib/python3.11/site-packages (from -r ../requirements.txt (line 11)) (0.5.6)\n",
      "Collecting torch (from -r ../requirements.txt (line 12))\n",
      "  Downloading torch-2.0.1-cp311-cp311-manylinux1_x86_64.whl (619.9 MB)\n",
      "\u001b[2K     \u001b[90m━━━━━━━━━━━━━━━━━━━━━━━━━━━━━━━━━━━━━━━\u001b[0m \u001b[32m619.9/619.9 MB\u001b[0m \u001b[31m6.1 MB/s\u001b[0m eta \u001b[36m0:00:00\u001b[0m00:01\u001b[0m00:01\u001b[0m\n",
      "\u001b[?25hCollecting torchvision (from -r ../requirements.txt (line 13))\n",
      "  Downloading torchvision-0.15.2-cp311-cp311-manylinux1_x86_64.whl (6.0 MB)\n",
      "\u001b[2K     \u001b[90m━━━━━━━━━━━━━━━━━━━━━━━━━━━━━━━━━━━━━━━━\u001b[0m \u001b[32m6.0/6.0 MB\u001b[0m \u001b[31m27.8 MB/s\u001b[0m eta \u001b[36m0:00:00\u001b[0m00:01\u001b[0m00:01\u001b[0m\n",
      "\u001b[?25hCollecting torchaudio (from -r ../requirements.txt (line 14))\n",
      "  Downloading torchaudio-2.0.2-cp311-cp311-manylinux1_x86_64.whl (4.4 MB)\n",
      "\u001b[2K     \u001b[90m━━━━━━━━━━━━━━━━━━━━━━━━━━━━━━━━━━━━━━━━\u001b[0m \u001b[32m4.4/4.4 MB\u001b[0m \u001b[31m24.8 MB/s\u001b[0m eta \u001b[36m0:00:00\u001b[0m00:01\u001b[0m00:01\u001b[0m\n",
      "\u001b[?25hRequirement already satisfied: filelock in /home/andrewli/miniconda3/envs/project-ki/lib/python3.11/site-packages (from transformers->-r ../requirements.txt (line 1)) (3.12.3)\n",
      "Requirement already satisfied: huggingface-hub<1.0,>=0.15.1 in /home/andrewli/miniconda3/envs/project-ki/lib/python3.11/site-packages (from transformers->-r ../requirements.txt (line 1)) (0.16.4)\n",
      "Requirement already satisfied: numpy>=1.17 in /home/andrewli/miniconda3/envs/project-ki/lib/python3.11/site-packages (from transformers->-r ../requirements.txt (line 1)) (1.24.3)\n",
      "Requirement already satisfied: packaging>=20.0 in /home/andrewli/miniconda3/envs/project-ki/lib/python3.11/site-packages (from transformers->-r ../requirements.txt (line 1)) (23.1)\n",
      "Requirement already satisfied: pyyaml>=5.1 in /home/andrewli/miniconda3/envs/project-ki/lib/python3.11/site-packages (from transformers->-r ../requirements.txt (line 1)) (6.0.1)\n",
      "Requirement already satisfied: regex!=2019.12.17 in /home/andrewli/miniconda3/envs/project-ki/lib/python3.11/site-packages (from transformers->-r ../requirements.txt (line 1)) (2023.8.8)\n",
      "Requirement already satisfied: requests in /home/andrewli/miniconda3/envs/project-ki/lib/python3.11/site-packages (from transformers->-r ../requirements.txt (line 1)) (2.31.0)\n",
      "Requirement already satisfied: tokenizers!=0.11.3,<0.14,>=0.11.1 in /home/andrewli/miniconda3/envs/project-ki/lib/python3.11/site-packages (from transformers->-r ../requirements.txt (line 1)) (0.13.3)\n",
      "Requirement already satisfied: safetensors>=0.3.1 in /home/andrewli/miniconda3/envs/project-ki/lib/python3.11/site-packages (from transformers->-r ../requirements.txt (line 1)) (0.3.3)\n",
      "Requirement already satisfied: tqdm>=4.27 in /home/andrewli/miniconda3/envs/project-ki/lib/python3.11/site-packages (from transformers->-r ../requirements.txt (line 1)) (4.66.1)\n",
      "Requirement already satisfied: comm>=0.1.1 in /home/andrewli/miniconda3/envs/project-ki/lib/python3.11/site-packages (from ipykernel->-r ../requirements.txt (line 2)) (0.1.4)\n",
      "Requirement already satisfied: debugpy>=1.6.5 in /home/andrewli/miniconda3/envs/project-ki/lib/python3.11/site-packages (from ipykernel->-r ../requirements.txt (line 2)) (1.6.8)\n",
      "Requirement already satisfied: ipython>=7.23.1 in /home/andrewli/miniconda3/envs/project-ki/lib/python3.11/site-packages (from ipykernel->-r ../requirements.txt (line 2)) (8.15.0)\n",
      "Requirement already satisfied: jupyter-client>=6.1.12 in /home/andrewli/miniconda3/envs/project-ki/lib/python3.11/site-packages (from ipykernel->-r ../requirements.txt (line 2)) (8.3.1)\n",
      "Requirement already satisfied: jupyter-core!=5.0.*,>=4.12 in /home/andrewli/miniconda3/envs/project-ki/lib/python3.11/site-packages (from ipykernel->-r ../requirements.txt (line 2)) (5.3.1)\n",
      "Requirement already satisfied: matplotlib-inline>=0.1 in /home/andrewli/miniconda3/envs/project-ki/lib/python3.11/site-packages (from ipykernel->-r ../requirements.txt (line 2)) (0.1.6)\n",
      "Requirement already satisfied: nest-asyncio in /home/andrewli/miniconda3/envs/project-ki/lib/python3.11/site-packages (from ipykernel->-r ../requirements.txt (line 2)) (1.5.6)\n",
      "Requirement already satisfied: psutil in /home/andrewli/miniconda3/envs/project-ki/lib/python3.11/site-packages (from ipykernel->-r ../requirements.txt (line 2)) (5.9.5)\n",
      "Requirement already satisfied: pyzmq>=20 in /home/andrewli/miniconda3/envs/project-ki/lib/python3.11/site-packages (from ipykernel->-r ../requirements.txt (line 2)) (25.1.1)\n",
      "Requirement already satisfied: tornado>=6.1 in /home/andrewli/miniconda3/envs/project-ki/lib/python3.11/site-packages (from ipykernel->-r ../requirements.txt (line 2)) (6.3.3)\n",
      "Requirement already satisfied: traitlets>=5.4.0 in /home/andrewli/miniconda3/envs/project-ki/lib/python3.11/site-packages (from ipykernel->-r ../requirements.txt (line 2)) (5.9.0)\n",
      "Requirement already satisfied: pyarrow>=8.0.0 in /home/andrewli/miniconda3/envs/project-ki/lib/python3.11/site-packages (from datasets->-r ../requirements.txt (line 4)) (13.0.0)\n",
      "Requirement already satisfied: dill<0.3.8,>=0.3.0 in /home/andrewli/miniconda3/envs/project-ki/lib/python3.11/site-packages (from datasets->-r ../requirements.txt (line 4)) (0.3.7)\n",
      "Requirement already satisfied: pandas in /home/andrewli/miniconda3/envs/project-ki/lib/python3.11/site-packages (from datasets->-r ../requirements.txt (line 4)) (2.1.0)\n",
      "Requirement already satisfied: xxhash in /home/andrewli/miniconda3/envs/project-ki/lib/python3.11/site-packages (from datasets->-r ../requirements.txt (line 4)) (3.3.0)\n",
      "Requirement already satisfied: multiprocess in /home/andrewli/miniconda3/envs/project-ki/lib/python3.11/site-packages (from datasets->-r ../requirements.txt (line 4)) (0.70.15)\n",
      "Requirement already satisfied: fsspec[http]>=2021.11.1 in /home/andrewli/miniconda3/envs/project-ki/lib/python3.11/site-packages (from datasets->-r ../requirements.txt (line 4)) (2023.9.0)\n",
      "Requirement already satisfied: cffi>=1.0 in /home/andrewli/miniconda3/envs/project-ki/lib/python3.11/site-packages (from soundfile->-r ../requirements.txt (line 5)) (1.15.1)\n",
      "Requirement already satisfied: audioread>=2.1.9 in /home/andrewli/miniconda3/envs/project-ki/lib/python3.11/site-packages (from librosa->-r ../requirements.txt (line 6)) (3.0.0)\n",
      "Requirement already satisfied: scipy>=1.2.0 in /home/andrewli/miniconda3/envs/project-ki/lib/python3.11/site-packages (from librosa->-r ../requirements.txt (line 6)) (1.11.2)\n",
      "Requirement already satisfied: scikit-learn>=0.20.0 in /home/andrewli/miniconda3/envs/project-ki/lib/python3.11/site-packages (from librosa->-r ../requirements.txt (line 6)) (1.3.0)\n",
      "Requirement already satisfied: joblib>=0.14 in /home/andrewli/miniconda3/envs/project-ki/lib/python3.11/site-packages (from librosa->-r ../requirements.txt (line 6)) (1.3.2)\n",
      "Requirement already satisfied: decorator>=4.3.0 in /home/andrewli/miniconda3/envs/project-ki/lib/python3.11/site-packages (from librosa->-r ../requirements.txt (line 6)) (5.1.1)\n",
      "Requirement already satisfied: numba>=0.51.0 in /home/andrewli/miniconda3/envs/project-ki/lib/python3.11/site-packages (from librosa->-r ../requirements.txt (line 6)) (0.57.1)\n",
      "Requirement already satisfied: pooch>=1.0 in /home/andrewli/miniconda3/envs/project-ki/lib/python3.11/site-packages (from librosa->-r ../requirements.txt (line 6)) (1.7.0)\n",
      "Requirement already satisfied: soxr>=0.3.2 in /home/andrewli/miniconda3/envs/project-ki/lib/python3.11/site-packages (from librosa->-r ../requirements.txt (line 6)) (0.3.6)\n",
      "Requirement already satisfied: typing-extensions>=4.1.1 in /home/andrewli/miniconda3/envs/project-ki/lib/python3.11/site-packages (from librosa->-r ../requirements.txt (line 6)) (4.5.0)\n",
      "Requirement already satisfied: lazy-loader>=0.1 in /home/andrewli/miniconda3/envs/project-ki/lib/python3.11/site-packages (from librosa->-r ../requirements.txt (line 6)) (0.3)\n",
      "Requirement already satisfied: msgpack>=1.0 in /home/andrewli/miniconda3/envs/project-ki/lib/python3.11/site-packages (from librosa->-r ../requirements.txt (line 6)) (1.0.5)\n",
      "Requirement already satisfied: bidict>=0.21.0 in /home/andrewli/miniconda3/envs/project-ki/lib/python3.11/site-packages (from python-socketio->-r ../requirements.txt (line 8)) (0.22.1)\n",
      "Requirement already satisfied: python-engineio>=4.7.0 in /home/andrewli/miniconda3/envs/project-ki/lib/python3.11/site-packages (from python-socketio->-r ../requirements.txt (line 8)) (4.7.0)\n",
      "Requirement already satisfied: attrs>=17.3.0 in /home/andrewli/miniconda3/envs/project-ki/lib/python3.11/site-packages (from aiohttp->-r ../requirements.txt (line 10)) (23.1.0)\n",
      "Requirement already satisfied: charset-normalizer<4.0,>=2.0 in /home/andrewli/miniconda3/envs/project-ki/lib/python3.11/site-packages (from aiohttp->-r ../requirements.txt (line 10)) (3.2.0)\n",
      "Requirement already satisfied: multidict<7.0,>=4.5 in /home/andrewli/miniconda3/envs/project-ki/lib/python3.11/site-packages (from aiohttp->-r ../requirements.txt (line 10)) (6.0.4)\n",
      "Requirement already satisfied: async-timeout<5.0,>=4.0.0a3 in /home/andrewli/miniconda3/envs/project-ki/lib/python3.11/site-packages (from aiohttp->-r ../requirements.txt (line 10)) (4.0.3)\n",
      "Requirement already satisfied: yarl<2.0,>=1.0 in /home/andrewli/miniconda3/envs/project-ki/lib/python3.11/site-packages (from aiohttp->-r ../requirements.txt (line 10)) (1.9.2)\n",
      "Requirement already satisfied: frozenlist>=1.1.1 in /home/andrewli/miniconda3/envs/project-ki/lib/python3.11/site-packages (from aiohttp->-r ../requirements.txt (line 10)) (1.4.0)\n",
      "Requirement already satisfied: aiosignal>=1.1.2 in /home/andrewli/miniconda3/envs/project-ki/lib/python3.11/site-packages (from aiohttp->-r ../requirements.txt (line 10)) (1.3.1)\n",
      "Requirement already satisfied: blessed<2.0.0,>=1.17.12 in /home/andrewli/miniconda3/envs/project-ki/lib/python3.11/site-packages (from jurigged->-r ../requirements.txt (line 11)) (1.20.0)\n",
      "Requirement already satisfied: codefind<0.2.0,>=0.1.3 in /home/andrewli/miniconda3/envs/project-ki/lib/python3.11/site-packages (from jurigged->-r ../requirements.txt (line 11)) (0.1.3)\n",
      "Requirement already satisfied: ovld<0.4.0,>=0.3.1 in /home/andrewli/miniconda3/envs/project-ki/lib/python3.11/site-packages (from jurigged->-r ../requirements.txt (line 11)) (0.3.2)\n",
      "Requirement already satisfied: watchdog>=1.0.2 in /home/andrewli/miniconda3/envs/project-ki/lib/python3.11/site-packages (from jurigged->-r ../requirements.txt (line 11)) (3.0.0)\n",
      "Collecting sympy (from torch->-r ../requirements.txt (line 12))\n",
      "  Downloading sympy-1.12-py3-none-any.whl (5.7 MB)\n",
      "\u001b[2K     \u001b[90m━━━━━━━━━━━━━━━━━━━━━━━━━━━━━━━━━━━━━━━━\u001b[0m \u001b[32m5.7/5.7 MB\u001b[0m \u001b[31m26.4 MB/s\u001b[0m eta \u001b[36m0:00:00\u001b[0m00:01\u001b[0m00:01\u001b[0m\n",
      "\u001b[?25hCollecting networkx (from torch->-r ../requirements.txt (line 12))\n",
      "  Downloading networkx-3.1-py3-none-any.whl (2.1 MB)\n",
      "\u001b[2K     \u001b[90m━━━━━━━━━━━━━━━━━━━━━━━━━━━━━━━━━━━━━━━━\u001b[0m \u001b[32m2.1/2.1 MB\u001b[0m \u001b[31m28.7 MB/s\u001b[0m eta \u001b[36m0:00:00\u001b[0m00:01\u001b[0m00:01\u001b[0m\n",
      "\u001b[?25hCollecting jinja2 (from torch->-r ../requirements.txt (line 12))\n",
      "  Downloading Jinja2-3.1.2-py3-none-any.whl (133 kB)\n",
      "\u001b[2K     \u001b[90m━━━━━━━━━━━━━━━━━━━━━━━━━━━━━━━━━━━━━━\u001b[0m \u001b[32m133.1/133.1 kB\u001b[0m \u001b[31m17.8 MB/s\u001b[0m eta \u001b[36m0:00:00\u001b[0m\n",
      "\u001b[?25hCollecting nvidia-cuda-nvrtc-cu11==11.7.99 (from torch->-r ../requirements.txt (line 12))\n",
      "  Downloading nvidia_cuda_nvrtc_cu11-11.7.99-2-py3-none-manylinux1_x86_64.whl (21.0 MB)\n",
      "\u001b[2K     \u001b[90m━━━━━━━━━━━━━━━━━━━━━━━━━━━━━━━━━━━━━━━━\u001b[0m \u001b[32m21.0/21.0 MB\u001b[0m \u001b[31m26.5 MB/s\u001b[0m eta \u001b[36m0:00:00\u001b[0m00:01\u001b[0m00:01\u001b[0m\n",
      "\u001b[?25hCollecting nvidia-cuda-runtime-cu11==11.7.99 (from torch->-r ../requirements.txt (line 12))\n",
      "  Downloading nvidia_cuda_runtime_cu11-11.7.99-py3-none-manylinux1_x86_64.whl (849 kB)\n",
      "\u001b[2K     \u001b[90m━━━━━━━━━━━━━━━━━━━━━━━━━━━━━━━━━━━━━━\u001b[0m \u001b[32m849.3/849.3 kB\u001b[0m \u001b[31m27.3 MB/s\u001b[0m eta \u001b[36m0:00:00\u001b[0m\n",
      "\u001b[?25hCollecting nvidia-cuda-cupti-cu11==11.7.101 (from torch->-r ../requirements.txt (line 12))\n",
      "  Downloading nvidia_cuda_cupti_cu11-11.7.101-py3-none-manylinux1_x86_64.whl (11.8 MB)\n",
      "\u001b[2K     \u001b[90m━━━━━━━━━━━━━━━━━━━━━━━━━━━━━━━━━━━━━━━━\u001b[0m \u001b[32m11.8/11.8 MB\u001b[0m \u001b[31m28.5 MB/s\u001b[0m eta \u001b[36m0:00:00\u001b[0m00:01\u001b[0m00:01\u001b[0m\n",
      "\u001b[?25hCollecting nvidia-cudnn-cu11==8.5.0.96 (from torch->-r ../requirements.txt (line 12))\n",
      "  Downloading nvidia_cudnn_cu11-8.5.0.96-2-py3-none-manylinux1_x86_64.whl (557.1 MB)\n",
      "\u001b[2K     \u001b[90m━━━━━━━━━━━━━━━━━━━━━━━━━━━━━━━━━━━━━━━\u001b[0m \u001b[32m557.1/557.1 MB\u001b[0m \u001b[31m5.9 MB/s\u001b[0m eta \u001b[36m0:00:00\u001b[0m00:01\u001b[0m00:01\u001b[0m\n",
      "\u001b[?25hCollecting nvidia-cublas-cu11==11.10.3.66 (from torch->-r ../requirements.txt (line 12))\n",
      "  Downloading nvidia_cublas_cu11-11.10.3.66-py3-none-manylinux1_x86_64.whl (317.1 MB)\n",
      "\u001b[2K     \u001b[90m━━━━━━━━━━━━━━━━━━━━━━━━━━━━━━━━━━━━━━━\u001b[0m \u001b[32m317.1/317.1 MB\u001b[0m \u001b[31m8.7 MB/s\u001b[0m eta \u001b[36m0:00:00\u001b[0m00:01\u001b[0m00:01\u001b[0m\n",
      "\u001b[?25hCollecting nvidia-cufft-cu11==10.9.0.58 (from torch->-r ../requirements.txt (line 12))\n",
      "  Downloading nvidia_cufft_cu11-10.9.0.58-py3-none-manylinux1_x86_64.whl (168.4 MB)\n",
      "\u001b[2K     \u001b[90m━━━━━━━━━━━━━━━━━━━━━━━━━━━━━━━━━━━━━━\u001b[0m \u001b[32m168.4/168.4 MB\u001b[0m \u001b[31m14.5 MB/s\u001b[0m eta \u001b[36m0:00:00\u001b[0m00:01\u001b[0m00:01\u001b[0m\n",
      "\u001b[?25hCollecting nvidia-curand-cu11==10.2.10.91 (from torch->-r ../requirements.txt (line 12))\n",
      "  Downloading nvidia_curand_cu11-10.2.10.91-py3-none-manylinux1_x86_64.whl (54.6 MB)\n",
      "\u001b[2K     \u001b[90m━━━━━━━━━━━━━━━━━━━━━━━━━━━━━━━━━━━━━━━━\u001b[0m \u001b[32m54.6/54.6 MB\u001b[0m \u001b[31m18.8 MB/s\u001b[0m eta \u001b[36m0:00:00\u001b[0m00:01\u001b[0m00:01\u001b[0m\n",
      "\u001b[?25hCollecting nvidia-cusolver-cu11==11.4.0.1 (from torch->-r ../requirements.txt (line 12))\n",
      "  Downloading nvidia_cusolver_cu11-11.4.0.1-2-py3-none-manylinux1_x86_64.whl (102.6 MB)\n",
      "\u001b[2K     \u001b[90m━━━━━━━━━━━━━━━━━━━━━━━━━━━━━━━━━━━━━━\u001b[0m \u001b[32m102.6/102.6 MB\u001b[0m \u001b[31m17.1 MB/s\u001b[0m eta \u001b[36m0:00:00\u001b[0m00:01\u001b[0m00:01\u001b[0m\n",
      "\u001b[?25hCollecting nvidia-cusparse-cu11==11.7.4.91 (from torch->-r ../requirements.txt (line 12))\n",
      "  Downloading nvidia_cusparse_cu11-11.7.4.91-py3-none-manylinux1_x86_64.whl (173.2 MB)\n",
      "\u001b[2K     \u001b[90m━━━━━━━━━━━━━━━━━━━━━━━━━━━━━━━━━━━━━━\u001b[0m \u001b[32m173.2/173.2 MB\u001b[0m \u001b[31m13.0 MB/s\u001b[0m eta \u001b[36m0:00:00\u001b[0m00:01\u001b[0m00:01\u001b[0m\n",
      "\u001b[?25hCollecting nvidia-nccl-cu11==2.14.3 (from torch->-r ../requirements.txt (line 12))\n",
      "  Downloading nvidia_nccl_cu11-2.14.3-py3-none-manylinux1_x86_64.whl (177.1 MB)\n",
      "\u001b[2K     \u001b[90m━━━━━━━━━━━━━━━━━━━━━━━━━━━━━━━━━━━━━━\u001b[0m \u001b[32m177.1/177.1 MB\u001b[0m \u001b[31m12.7 MB/s\u001b[0m eta \u001b[36m0:00:00\u001b[0m00:01\u001b[0m00:01\u001b[0m\n",
      "\u001b[?25hCollecting nvidia-nvtx-cu11==11.7.91 (from torch->-r ../requirements.txt (line 12))\n",
      "  Downloading nvidia_nvtx_cu11-11.7.91-py3-none-manylinux1_x86_64.whl (98 kB)\n",
      "\u001b[2K     \u001b[90m━━━━━━━━━━━━━━━━━━━━━━━━━━━━━━━━━━━━━━━━\u001b[0m \u001b[32m98.6/98.6 kB\u001b[0m \u001b[31m16.9 MB/s\u001b[0m eta \u001b[36m0:00:00\u001b[0m\n",
      "\u001b[?25hCollecting triton==2.0.0 (from torch->-r ../requirements.txt (line 12))\n",
      "  Downloading triton-2.0.0-1-cp311-cp311-manylinux2014_x86_64.manylinux_2_17_x86_64.whl (63.3 MB)\n",
      "\u001b[2K     \u001b[90m━━━━━━━━━━━━━━━━━━━━━━━━━━━━━━━━━━━━━━━━\u001b[0m \u001b[32m63.3/63.3 MB\u001b[0m \u001b[31m21.7 MB/s\u001b[0m eta \u001b[36m0:00:00\u001b[0m00:01\u001b[0m00:01\u001b[0m\n",
      "\u001b[?25hRequirement already satisfied: setuptools in /home/andrewli/miniconda3/envs/project-ki/lib/python3.11/site-packages (from nvidia-cublas-cu11==11.10.3.66->torch->-r ../requirements.txt (line 12)) (68.0.0)\n",
      "Requirement already satisfied: wheel in /home/andrewli/miniconda3/envs/project-ki/lib/python3.11/site-packages (from nvidia-cublas-cu11==11.10.3.66->torch->-r ../requirements.txt (line 12)) (0.38.4)\n",
      "Collecting cmake (from triton==2.0.0->torch->-r ../requirements.txt (line 12))\n",
      "  Obtaining dependency information for cmake from https://files.pythonhosted.org/packages/de/94/cba4b3ddc0d4555967cce8fd6e9fbced98a6bf62857db71c2400a7b6e183/cmake-3.27.5-py2.py3-none-manylinux2014_x86_64.manylinux_2_17_x86_64.whl.metadata\n",
      "  Downloading cmake-3.27.5-py2.py3-none-manylinux2014_x86_64.manylinux_2_17_x86_64.whl.metadata (6.7 kB)\n",
      "Collecting lit (from triton==2.0.0->torch->-r ../requirements.txt (line 12))\n",
      "  Downloading lit-16.0.6.tar.gz (153 kB)\n",
      "\u001b[2K     \u001b[90m━━━━━━━━━━━━━━━━━━━━━━━━━━━━━━━━━━━━━━\u001b[0m \u001b[32m153.7/153.7 kB\u001b[0m \u001b[31m19.8 MB/s\u001b[0m eta \u001b[36m0:00:00\u001b[0m\n",
      "\u001b[?25h  Installing build dependencies ... \u001b[?25ldone\n",
      "\u001b[?25h  Getting requirements to build wheel ... \u001b[?25ldone\n",
      "\u001b[?25h  Installing backend dependencies ... \u001b[?25ldone\n",
      "\u001b[?25h  Preparing metadata (pyproject.toml) ... \u001b[?25ldone\n",
      "\u001b[?25hCollecting pillow!=8.3.*,>=5.3.0 (from torchvision->-r ../requirements.txt (line 13))\n",
      "  Obtaining dependency information for pillow!=8.3.*,>=5.3.0 from https://files.pythonhosted.org/packages/3c/49/f87cecbdec4b00cc1187f01196d48c08828204cd861915fab44972dc705c/Pillow-10.0.1-cp311-cp311-manylinux_2_28_x86_64.whl.metadata\n",
      "  Downloading Pillow-10.0.1-cp311-cp311-manylinux_2_28_x86_64.whl.metadata (9.5 kB)\n",
      "Requirement already satisfied: wcwidth>=0.1.4 in /home/andrewli/miniconda3/envs/project-ki/lib/python3.11/site-packages (from blessed<2.0.0,>=1.17.12->jurigged->-r ../requirements.txt (line 11)) (0.2.6)\n",
      "Requirement already satisfied: six>=1.9.0 in /home/andrewli/miniconda3/envs/project-ki/lib/python3.11/site-packages (from blessed<2.0.0,>=1.17.12->jurigged->-r ../requirements.txt (line 11)) (1.16.0)\n",
      "Requirement already satisfied: pycparser in /home/andrewli/miniconda3/envs/project-ki/lib/python3.11/site-packages (from cffi>=1.0->soundfile->-r ../requirements.txt (line 5)) (2.21)\n",
      "Requirement already satisfied: backcall in /home/andrewli/miniconda3/envs/project-ki/lib/python3.11/site-packages (from ipython>=7.23.1->ipykernel->-r ../requirements.txt (line 2)) (0.2.0)\n",
      "Requirement already satisfied: jedi>=0.16 in /home/andrewli/miniconda3/envs/project-ki/lib/python3.11/site-packages (from ipython>=7.23.1->ipykernel->-r ../requirements.txt (line 2)) (0.19.0)\n",
      "Requirement already satisfied: pickleshare in /home/andrewli/miniconda3/envs/project-ki/lib/python3.11/site-packages (from ipython>=7.23.1->ipykernel->-r ../requirements.txt (line 2)) (0.7.5)\n",
      "Requirement already satisfied: prompt-toolkit!=3.0.37,<3.1.0,>=3.0.30 in /home/andrewli/miniconda3/envs/project-ki/lib/python3.11/site-packages (from ipython>=7.23.1->ipykernel->-r ../requirements.txt (line 2)) (3.0.39)\n",
      "Requirement already satisfied: pygments>=2.4.0 in /home/andrewli/miniconda3/envs/project-ki/lib/python3.11/site-packages (from ipython>=7.23.1->ipykernel->-r ../requirements.txt (line 2)) (2.16.1)\n",
      "Requirement already satisfied: stack-data in /home/andrewli/miniconda3/envs/project-ki/lib/python3.11/site-packages (from ipython>=7.23.1->ipykernel->-r ../requirements.txt (line 2)) (0.6.2)\n",
      "Requirement already satisfied: pexpect>4.3 in /home/andrewli/miniconda3/envs/project-ki/lib/python3.11/site-packages (from ipython>=7.23.1->ipykernel->-r ../requirements.txt (line 2)) (4.8.0)\n",
      "Requirement already satisfied: python-dateutil>=2.8.2 in /home/andrewli/miniconda3/envs/project-ki/lib/python3.11/site-packages (from jupyter-client>=6.1.12->ipykernel->-r ../requirements.txt (line 2)) (2.8.2)\n",
      "Requirement already satisfied: platformdirs>=2.5 in /home/andrewli/miniconda3/envs/project-ki/lib/python3.11/site-packages (from jupyter-core!=5.0.*,>=4.12->ipykernel->-r ../requirements.txt (line 2)) (3.10.0)\n",
      "Requirement already satisfied: llvmlite<0.41,>=0.40.0dev0 in /home/andrewli/miniconda3/envs/project-ki/lib/python3.11/site-packages (from numba>=0.51.0->librosa->-r ../requirements.txt (line 6)) (0.40.1)\n",
      "Requirement already satisfied: idna<4,>=2.5 in /home/andrewli/miniconda3/envs/project-ki/lib/python3.11/site-packages (from requests->transformers->-r ../requirements.txt (line 1)) (3.4)\n",
      "Requirement already satisfied: urllib3<3,>=1.21.1 in /home/andrewli/miniconda3/envs/project-ki/lib/python3.11/site-packages (from requests->transformers->-r ../requirements.txt (line 1)) (1.26.16)\n",
      "Requirement already satisfied: certifi>=2017.4.17 in /home/andrewli/miniconda3/envs/project-ki/lib/python3.11/site-packages (from requests->transformers->-r ../requirements.txt (line 1)) (2023.7.22)\n",
      "Requirement already satisfied: threadpoolctl>=2.0.0 in /home/andrewli/miniconda3/envs/project-ki/lib/python3.11/site-packages (from scikit-learn>=0.20.0->librosa->-r ../requirements.txt (line 6)) (3.2.0)\n",
      "Requirement already satisfied: MarkupSafe>=2.0 in /home/andrewli/miniconda3/envs/project-ki/lib/python3.11/site-packages (from jinja2->torch->-r ../requirements.txt (line 12)) (2.1.3)\n",
      "Requirement already satisfied: pytz>=2020.1 in /home/andrewli/miniconda3/envs/project-ki/lib/python3.11/site-packages (from pandas->datasets->-r ../requirements.txt (line 4)) (2023.3)\n",
      "Requirement already satisfied: tzdata>=2022.1 in /home/andrewli/miniconda3/envs/project-ki/lib/python3.11/site-packages (from pandas->datasets->-r ../requirements.txt (line 4)) (2023.3)\n",
      "Collecting mpmath>=0.19 (from sympy->torch->-r ../requirements.txt (line 12))\n",
      "  Downloading mpmath-1.3.0-py3-none-any.whl (536 kB)\n",
      "\u001b[2K     \u001b[90m━━━━━━━━━━━━━━━━━━━━━━━━━━━━━━━━━━━━━━\u001b[0m \u001b[32m536.2/536.2 kB\u001b[0m \u001b[31m23.6 MB/s\u001b[0m eta \u001b[36m0:00:00\u001b[0m\n",
      "\u001b[?25hRequirement already satisfied: parso<0.9.0,>=0.8.3 in /home/andrewli/miniconda3/envs/project-ki/lib/python3.11/site-packages (from jedi>=0.16->ipython>=7.23.1->ipykernel->-r ../requirements.txt (line 2)) (0.8.3)\n",
      "Requirement already satisfied: ptyprocess>=0.5 in /home/andrewli/miniconda3/envs/project-ki/lib/python3.11/site-packages (from pexpect>4.3->ipython>=7.23.1->ipykernel->-r ../requirements.txt (line 2)) (0.7.0)\n",
      "Requirement already satisfied: executing>=1.2.0 in /home/andrewli/miniconda3/envs/project-ki/lib/python3.11/site-packages (from stack-data->ipython>=7.23.1->ipykernel->-r ../requirements.txt (line 2)) (1.2.0)\n",
      "Requirement already satisfied: asttokens>=2.1.0 in /home/andrewli/miniconda3/envs/project-ki/lib/python3.11/site-packages (from stack-data->ipython>=7.23.1->ipykernel->-r ../requirements.txt (line 2)) (2.2.1)\n",
      "Requirement already satisfied: pure-eval in /home/andrewli/miniconda3/envs/project-ki/lib/python3.11/site-packages (from stack-data->ipython>=7.23.1->ipykernel->-r ../requirements.txt (line 2)) (0.2.2)\n",
      "Downloading Pillow-10.0.1-cp311-cp311-manylinux_2_28_x86_64.whl (3.6 MB)\n",
      "\u001b[2K   \u001b[90m━━━━━━━━━━━━━━━━━━━━━━━━━━━━━━━━━━━━━━━━\u001b[0m \u001b[32m3.6/3.6 MB\u001b[0m \u001b[31m22.2 MB/s\u001b[0m eta \u001b[36m0:00:00\u001b[0m00:01\u001b[0m00:01\u001b[0m\n",
      "\u001b[?25hDownloading cmake-3.27.5-py2.py3-none-manylinux2014_x86_64.manylinux_2_17_x86_64.whl (26.1 MB)\n",
      "\u001b[2K   \u001b[90m━━━━━━━━━━━━━━━━━━━━━━━━━━━━━━━━━━━━━━━━\u001b[0m \u001b[32m26.1/26.1 MB\u001b[0m \u001b[31m26.1 MB/s\u001b[0m eta \u001b[36m0:00:00\u001b[0m00:01\u001b[0m00:01\u001b[0m\n",
      "\u001b[?25hBuilding wheels for collected packages: lit\n",
      "  Building wheel for lit (pyproject.toml) ... \u001b[?25ldone\n",
      "\u001b[?25h  Created wheel for lit: filename=lit-16.0.6-py3-none-any.whl size=93584 sha256=1ae7f6b409099326424300fa38ca7eec0e31a134872e10e2a1ac428381b9ae34\n",
      "  Stored in directory: /home/andrewli/.cache/pip/wheels/ab/84/e4/5af8c76af9e5bee472e825f1451c18bb3b261d80a7b3ec7f8a\n",
      "Successfully built lit\n",
      "Installing collected packages: mpmath, lit, cmake, sympy, pillow, nvidia-nvtx-cu11, nvidia-nccl-cu11, nvidia-cusparse-cu11, nvidia-curand-cu11, nvidia-cufft-cu11, nvidia-cuda-runtime-cu11, nvidia-cuda-nvrtc-cu11, nvidia-cuda-cupti-cu11, nvidia-cublas-cu11, networkx, jinja2, nvidia-cusolver-cu11, nvidia-cudnn-cu11, triton, torch, torchvision, torchaudio\n",
      "Successfully installed cmake-3.27.5 jinja2-3.1.2 lit-16.0.6 mpmath-1.3.0 networkx-3.1 nvidia-cublas-cu11-11.10.3.66 nvidia-cuda-cupti-cu11-11.7.101 nvidia-cuda-nvrtc-cu11-11.7.99 nvidia-cuda-runtime-cu11-11.7.99 nvidia-cudnn-cu11-8.5.0.96 nvidia-cufft-cu11-10.9.0.58 nvidia-curand-cu11-10.2.10.91 nvidia-cusolver-cu11-11.4.0.1 nvidia-cusparse-cu11-11.7.4.91 nvidia-nccl-cu11-2.14.3 nvidia-nvtx-cu11-11.7.91 pillow-10.0.1 sympy-1.12 torch-2.0.1 torchaudio-2.0.2 torchvision-0.15.2 triton-2.0.0\n",
      "Note: you may need to restart the kernel to use updated packages.\n",
      "/bin/bash: /home/andrewli/miniconda3/envs/project-ki/lib/libtinfo.so.6: no version information available (required by /bin/bash)\n",
      "Sat Sep 23 11:39:32 2023       \n",
      "+-----------------------------------------------------------------------------+\n",
      "| NVIDIA-SMI 525.125.06   Driver Version: 525.125.06   CUDA Version: 12.0     |\n",
      "|-------------------------------+----------------------+----------------------+\n",
      "| GPU  Name        Persistence-M| Bus-Id        Disp.A | Volatile Uncorr. ECC |\n",
      "| Fan  Temp  Perf  Pwr:Usage/Cap|         Memory-Usage | GPU-Util  Compute M. |\n",
      "|                               |                      |               MIG M. |\n",
      "|===============================+======================+======================|\n",
      "|   0  NVIDIA GeForce ...  Off  | 00000000:01:00.0  On |                  N/A |\n",
      "| N/A   49C    P8    11W /  70W |     36MiB /  6144MiB |      0%      Default |\n",
      "|                               |                      |                  N/A |\n",
      "+-------------------------------+----------------------+----------------------+\n",
      "                                                                               \n",
      "+-----------------------------------------------------------------------------+\n",
      "| Processes:                                                                  |\n",
      "|  GPU   GI   CI        PID   Type   Process name                  GPU Memory |\n",
      "|        ID   ID                                                   Usage      |\n",
      "|=============================================================================|\n",
      "|    0   N/A  N/A      2177      G   /usr/bin/gnome-shell                2MiB |\n",
      "+-----------------------------------------------------------------------------+\n",
      "/bin/bash: /home/andrewli/miniconda3/envs/project-ki/lib/libtinfo.so.6: no version information available (required by /bin/bash)\n",
      "/bin/bash: line 1: nvcc: command not found\n"
     ]
    }
   ],
   "source": [
    "%pip install -r ../requirements.txt # install dependencies\n",
    "\n",
    "!nvidia-smi # check that GPU drivers are functioning\n",
    "\n",
    "!nvcc -V # check that CUDA drivers are installed"
   ]
  },
  {
   "cell_type": "code",
   "execution_count": 6,
   "metadata": {},
   "outputs": [
    {
     "name": "stderr",
     "output_type": "stream",
     "text": [
      "2023-09-04 14:08:03.325835: W tensorflow/compiler/tf2tensorrt/utils/py_utils.cc:38] TF-TRT Warning: Could not find TensorRT\n",
      "No model was supplied, defaulted to distilbert-base-uncased-finetuned-sst-2-english and revision af0f99b (https://huggingface.co/distilbert-base-uncased-finetuned-sst-2-english).\n",
      "Using a pipeline without specifying a model name and revision in production is not recommended.\n",
      "2023-09-04 14:08:04.395789: I tensorflow/compiler/xla/stream_executor/cuda/cuda_gpu_executor.cc:995] successful NUMA node read from SysFS had negative value (-1), but there must be at least one NUMA node, so returning NUMA node zero. See more at https://github.com/torvalds/linux/blob/v6.0/Documentation/ABI/testing/sysfs-bus-pci#L344-L355\n",
      "2023-09-04 14:08:04.514274: I tensorflow/compiler/xla/stream_executor/cuda/cuda_gpu_executor.cc:995] successful NUMA node read from SysFS had negative value (-1), but there must be at least one NUMA node, so returning NUMA node zero. See more at https://github.com/torvalds/linux/blob/v6.0/Documentation/ABI/testing/sysfs-bus-pci#L344-L355\n",
      "2023-09-04 14:08:04.514488: I tensorflow/compiler/xla/stream_executor/cuda/cuda_gpu_executor.cc:995] successful NUMA node read from SysFS had negative value (-1), but there must be at least one NUMA node, so returning NUMA node zero. See more at https://github.com/torvalds/linux/blob/v6.0/Documentation/ABI/testing/sysfs-bus-pci#L344-L355\n",
      "2023-09-04 14:08:04.516750: I tensorflow/compiler/xla/stream_executor/cuda/cuda_gpu_executor.cc:995] successful NUMA node read from SysFS had negative value (-1), but there must be at least one NUMA node, so returning NUMA node zero. See more at https://github.com/torvalds/linux/blob/v6.0/Documentation/ABI/testing/sysfs-bus-pci#L344-L355\n",
      "2023-09-04 14:08:04.516908: I tensorflow/compiler/xla/stream_executor/cuda/cuda_gpu_executor.cc:995] successful NUMA node read from SysFS had negative value (-1), but there must be at least one NUMA node, so returning NUMA node zero. See more at https://github.com/torvalds/linux/blob/v6.0/Documentation/ABI/testing/sysfs-bus-pci#L344-L355\n",
      "2023-09-04 14:08:04.517042: I tensorflow/compiler/xla/stream_executor/cuda/cuda_gpu_executor.cc:995] successful NUMA node read from SysFS had negative value (-1), but there must be at least one NUMA node, so returning NUMA node zero. See more at https://github.com/torvalds/linux/blob/v6.0/Documentation/ABI/testing/sysfs-bus-pci#L344-L355\n",
      "2023-09-04 14:08:04.588092: I tensorflow/compiler/xla/stream_executor/cuda/cuda_gpu_executor.cc:995] successful NUMA node read from SysFS had negative value (-1), but there must be at least one NUMA node, so returning NUMA node zero. See more at https://github.com/torvalds/linux/blob/v6.0/Documentation/ABI/testing/sysfs-bus-pci#L344-L355\n",
      "2023-09-04 14:08:04.588267: I tensorflow/compiler/xla/stream_executor/cuda/cuda_gpu_executor.cc:995] successful NUMA node read from SysFS had negative value (-1), but there must be at least one NUMA node, so returning NUMA node zero. See more at https://github.com/torvalds/linux/blob/v6.0/Documentation/ABI/testing/sysfs-bus-pci#L344-L355\n",
      "2023-09-04 14:08:04.588407: I tensorflow/compiler/xla/stream_executor/cuda/cuda_gpu_executor.cc:995] successful NUMA node read from SysFS had negative value (-1), but there must be at least one NUMA node, so returning NUMA node zero. See more at https://github.com/torvalds/linux/blob/v6.0/Documentation/ABI/testing/sysfs-bus-pci#L344-L355\n",
      "2023-09-04 14:08:04.588537: I tensorflow/core/common_runtime/gpu/gpu_device.cc:1639] Created device /job:localhost/replica:0/task:0/device:GPU:0 with 4652 MB memory:  -> device: 0, name: NVIDIA GeForce GTX 1060 6GB, pci bus id: 0000:0b:00.0, compute capability: 6.1\n",
      "All PyTorch model weights were used when initializing TFDistilBertForSequenceClassification.\n",
      "\n",
      "All the weights of TFDistilBertForSequenceClassification were initialized from the PyTorch model.\n",
      "If your task is similar to the task the model of the checkpoint was trained on, you can already use TFDistilBertForSequenceClassification for predictions without further training.\n"
     ]
    },
    {
     "name": "stdout",
     "output_type": "stream",
     "text": [
      "[{'label': 'POSITIVE', 'score': 0.9998704195022583}]\n"
     ]
    }
   ],
   "source": [
    "# test that successfully installed\n",
    "from transformers import pipeline\n",
    "\n",
    "print(pipeline(\"sentiment-analysis\")(\"we love you\"))\n",
    "\n",
    "# if output is received: that means that Huggingface.co library is working as intended."
   ]
  },
  {
   "cell_type": "code",
   "execution_count": 2,
   "metadata": {},
   "outputs": [
    {
     "name": "stdout",
     "output_type": "stream",
     "text": [
      "True\n"
     ]
    }
   ],
   "source": [
    "# check that gpu computation is available\n",
    "import torch\n",
    "print(torch.cuda.is_available())"
   ]
  },
  {
   "cell_type": "code",
   "execution_count": 3,
   "metadata": {},
   "outputs": [
    {
     "name": "stdout",
     "output_type": "stream",
     "text": [
      "2.13.0\n"
     ]
    },
    {
     "name": "stderr",
     "output_type": "stream",
     "text": [
      "2023-09-04 14:22:12.782740: I tensorflow/compiler/xla/stream_executor/cuda/cuda_gpu_executor.cc:995] successful NUMA node read from SysFS had negative value (-1), but there must be at least one NUMA node, so returning NUMA node zero. See more at https://github.com/torvalds/linux/blob/v6.0/Documentation/ABI/testing/sysfs-bus-pci#L344-L355\n",
      "2023-09-04 14:22:12.782927: I tensorflow/compiler/xla/stream_executor/cuda/cuda_gpu_executor.cc:995] successful NUMA node read from SysFS had negative value (-1), but there must be at least one NUMA node, so returning NUMA node zero. See more at https://github.com/torvalds/linux/blob/v6.0/Documentation/ABI/testing/sysfs-bus-pci#L344-L355\n",
      "2023-09-04 14:22:12.783058: I tensorflow/compiler/xla/stream_executor/cuda/cuda_gpu_executor.cc:995] successful NUMA node read from SysFS had negative value (-1), but there must be at least one NUMA node, so returning NUMA node zero. See more at https://github.com/torvalds/linux/blob/v6.0/Documentation/ABI/testing/sysfs-bus-pci#L344-L355\n"
     ]
    }
   ],
   "source": []
  },
  {
   "cell_type": "code",
   "execution_count": 7,
   "metadata": {},
   "outputs": [
    {
     "name": "stdout",
     "output_type": "stream",
     "text": [
      "['/home/andrewli/c/project-ki/src', '/home/andrewli/miniconda3/envs/project-ki/lib/python311.zip', '/home/andrewli/miniconda3/envs/project-ki/lib/python3.11', '/home/andrewli/miniconda3/envs/project-ki/lib/python3.11/lib-dynload', '', '/home/andrewli/miniconda3/envs/project-ki/lib/python3.11/site-packages']\n",
      "/home/andrewli/c/project-ki/src\n"
     ]
    }
   ],
   "source": [
    "# append project to pythonpath for module importing\n",
    "import sys\n",
    "from os import getcwd as cwd, environ as env\n",
    "\n",
    "print(sys.path)\n",
    "print(cwd())\n",
    "\n",
    "if not (cwd() in sys.path):\n",
    "    sys.path.append(cwd())"
   ]
  }
 ],
 "metadata": {
  "kernelspec": {
   "display_name": "venv",
   "language": "python",
   "name": "python3"
  },
  "language_info": {
   "codemirror_mode": {
    "name": "ipython",
    "version": 3
   },
   "file_extension": ".py",
   "mimetype": "text/x-python",
   "name": "python",
   "nbconvert_exporter": "python",
   "pygments_lexer": "ipython3",
   "version": "3.11.4"
  },
  "orig_nbformat": 4
 },
 "nbformat": 4,
 "nbformat_minor": 2
}
