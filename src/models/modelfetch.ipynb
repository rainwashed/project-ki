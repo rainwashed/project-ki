{
 "cells": [
  {
   "cell_type": "markdown",
   "metadata": {},
   "source": [
    "download and locally save the ``whisper-medium`` model from OpenAI"
   ]
  },
  {
   "cell_type": "code",
   "execution_count": 1,
   "metadata": {},
   "outputs": [
    {
     "name": "stderr",
     "output_type": "stream",
     "text": [
      "/home/andrewli/miniconda3/envs/project-ki/lib/python3.11/site-packages/tqdm/auto.py:21: TqdmWarning: IProgress not found. Please update jupyter and ipywidgets. See https://ipywidgets.readthedocs.io/en/stable/user_install.html\n",
      "  from .autonotebook import tqdm as notebook_tqdm\n",
      "2023-09-04 20:40:13.942920: I tensorflow/core/platform/cpu_feature_guard.cc:182] This TensorFlow binary is optimized to use available CPU instructions in performance-critical operations.\n",
      "To enable the following instructions: AVX2 FMA, in other operations, rebuild TensorFlow with the appropriate compiler flags.\n",
      "2023-09-04 20:40:15.044064: W tensorflow/compiler/tf2tensorrt/utils/py_utils.cc:38] TF-TRT Warning: Could not find TensorRT\n",
      "2023-09-04 20:40:16.920016: E tensorflow/compiler/xla/stream_executor/cuda/cuda_driver.cc:268] failed call to cuInit: CUDA_ERROR_UNKNOWN: unknown error\n",
      "2023-09-04 20:40:16.920068: I tensorflow/compiler/xla/stream_executor/cuda/cuda_diagnostics.cc:168] retrieving CUDA diagnostic information for host: andrewli-GF75-Thin-10UEK\n",
      "2023-09-04 20:40:16.920077: I tensorflow/compiler/xla/stream_executor/cuda/cuda_diagnostics.cc:175] hostname: andrewli-GF75-Thin-10UEK\n",
      "2023-09-04 20:40:16.920249: I tensorflow/compiler/xla/stream_executor/cuda/cuda_diagnostics.cc:199] libcuda reported version is: 525.125.6\n",
      "2023-09-04 20:40:16.920278: I tensorflow/compiler/xla/stream_executor/cuda/cuda_diagnostics.cc:203] kernel reported version is: 525.125.6\n",
      "2023-09-04 20:40:16.920286: I tensorflow/compiler/xla/stream_executor/cuda/cuda_diagnostics.cc:309] kernel version seems to match DSO: 525.125.6\n",
      "All PyTorch model weights were used when initializing TFWhisperForConditionalGeneration.\n",
      "\n",
      "All the weights of TFWhisperForConditionalGeneration were initialized from the PyTorch model.\n",
      "If your task is similar to the task the model of the checkpoint was trained on, you can already use TFWhisperForConditionalGeneration for predictions without further training.\n"
     ]
    }
   ],
   "source": [
    "from transformers import WhisperProcessor, TFWhisperForConditionalGeneration\n",
    "whisper_processor = WhisperProcessor.from_pretrained(\n",
    "    \"openai/whisper-base.en\")\n",
    "whisper_model = TFWhisperForConditionalGeneration.from_pretrained(\n",
    "    \"openai/whisper-base.en\")\n",
    "\n",
    "whisper_processor.save_pretrained(\"./whisper-base.en\")\n",
    "whisper_model.save_pretrained(\"./whisper-base.en\")\n"
   ]
  },
  {
   "cell_type": "markdown",
   "metadata": {},
   "source": [
    "download the ``PP0_Pygway_6b`` model from KoboldAI"
   ]
  },
  {
   "cell_type": "code",
   "execution_count": 4,
   "metadata": {},
   "outputs": [
    {
     "name": "stdout",
     "output_type": "stream",
     "text": [
      "Error executing command as another user: Not authorized\n",
      "\n",
      "This incident has been reported.\n",
      "yes: standard output: Broken pipe\n",
      "Updated Git hooks.\n",
      "Git LFS initialized.\n",
      "Cloning into './pygway'...\n",
      "remote: Enumerating objects: 67, done.\u001b[K\n",
      "remote: Total 67 (delta 0), reused 0 (delta 0), pack-reused 67\u001b[K\n",
      "Unpacking objects: 100% (67/67), 1.10 MiB | 9.03 MiB/s, done.\n",
      "^C\n",
      "warning: Clone succeeded, but checkout failed.\n",
      "You can inspect what was checked out with 'git status'\n",
      "and retry with 'git restore --source=HEAD :/'\n",
      "\n",
      "\n",
      "Exiting because of \"interrupt\" signal.\n"
     ]
    }
   ],
   "source": [
    "!yes | pkexec pacman -Sy git-lfs\n",
    "!git lfs install\n",
    "!rm -rf ./pygway # incase folder already exists\n",
    "!git clone https://huggingface.co/KoboldAI/PPO_Pygway-6b-Mix ./pygway"
   ]
  }
 ],
 "metadata": {
  "kernelspec": {
   "display_name": "venv",
   "language": "python",
   "name": "python3"
  },
  "language_info": {
   "codemirror_mode": {
    "name": "ipython",
    "version": 3
   },
   "file_extension": ".py",
   "mimetype": "text/x-python",
   "name": "python",
   "nbconvert_exporter": "python",
   "pygments_lexer": "ipython3",
   "version": "3.11.4"
  },
  "orig_nbformat": 4
 },
 "nbformat": 4,
 "nbformat_minor": 2
}
